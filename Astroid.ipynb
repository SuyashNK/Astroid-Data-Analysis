{
  "nbformat": 4,
  "nbformat_minor": 0,
  "metadata": {
    "colab": {
      "provenance": []
    },
    "kernelspec": {
      "name": "python3",
      "display_name": "Python 3"
    },
    "language_info": {
      "name": "python"
    }
  },
  "cells": [
    {
      "cell_type": "code",
      "execution_count": null,
      "metadata": {
        "colab": {
          "base_uri": "https://localhost:8080/"
        },
        "id": "UdKd4zBkJT3u",
        "outputId": "27823404-6667-4b4e-dc5b-46af8c0c6f22"
      },
      "outputs": [
        {
          "output_type": "stream",
          "name": "stdout",
          "text": [
            "Collecting pyspark\n",
            "  Downloading pyspark-3.4.1.tar.gz (310.8 MB)\n",
            "\u001b[2K     \u001b[90m━━━━━━━━━━━━━━━━━━━━━━━━━━━━━━━━━━━━━━━\u001b[0m \u001b[32m310.8/310.8 MB\u001b[0m \u001b[31m4.8 MB/s\u001b[0m eta \u001b[36m0:00:00\u001b[0m\n",
            "\u001b[?25h  Preparing metadata (setup.py) ... \u001b[?25l\u001b[?25hdone\n",
            "Requirement already satisfied: py4j==0.10.9.7 in /usr/local/lib/python3.10/dist-packages (from pyspark) (0.10.9.7)\n",
            "Building wheels for collected packages: pyspark\n",
            "  Building wheel for pyspark (setup.py) ... \u001b[?25l\u001b[?25hdone\n",
            "  Created wheel for pyspark: filename=pyspark-3.4.1-py2.py3-none-any.whl size=311285397 sha256=ac59a718de7e90a78fba6b908b45a1e6f8887049ae89427aaa643551ecb31224\n",
            "  Stored in directory: /root/.cache/pip/wheels/0d/77/a3/ff2f74cc9ab41f8f594dabf0579c2a7c6de920d584206e0834\n",
            "Successfully built pyspark\n",
            "Installing collected packages: pyspark\n",
            "Successfully installed pyspark-3.4.1\n"
          ]
        }
      ],
      "source": [
        "!pip install pyspark"
      ]
    },
    {
      "cell_type": "code",
      "source": [
        "import pyspark"
      ],
      "metadata": {
        "id": "inXgiuK7JalF"
      },
      "execution_count": null,
      "outputs": []
    },
    {
      "cell_type": "code",
      "source": [
        "from pyspark.sql import SparkSession"
      ],
      "metadata": {
        "id": "c8kEtNi-J8cJ"
      },
      "execution_count": null,
      "outputs": []
    },
    {
      "cell_type": "code",
      "source": [
        "spark = SparkSession.builder.appName(\"test\").getOrCreate()\n",
        "spark"
      ],
      "metadata": {
        "colab": {
          "base_uri": "https://localhost:8080/",
          "height": 219
        },
        "id": "IDzVIqmMKBng",
        "outputId": "55964aa2-b672-4669-df99-9695d5138603"
      },
      "execution_count": null,
      "outputs": [
        {
          "output_type": "execute_result",
          "data": {
            "text/plain": [
              "<pyspark.sql.session.SparkSession at 0x7eacd41d02b0>"
            ],
            "text/html": [
              "\n",
              "            <div>\n",
              "                <p><b>SparkSession - in-memory</b></p>\n",
              "                \n",
              "        <div>\n",
              "            <p><b>SparkContext</b></p>\n",
              "\n",
              "            <p><a href=\"http://2929f56d07ce:4040\">Spark UI</a></p>\n",
              "\n",
              "            <dl>\n",
              "              <dt>Version</dt>\n",
              "                <dd><code>v3.4.1</code></dd>\n",
              "              <dt>Master</dt>\n",
              "                <dd><code>local[*]</code></dd>\n",
              "              <dt>AppName</dt>\n",
              "                <dd><code>test</code></dd>\n",
              "            </dl>\n",
              "        </div>\n",
              "        \n",
              "            </div>\n",
              "        "
            ]
          },
          "metadata": {},
          "execution_count": 4
        }
      ]
    },
    {
      "cell_type": "code",
      "source": [
        "df = spark.read.csv(\"/content/drive/MyDrive/data/Asteroid_Data_All.csv\")\n",
        "df.show()"
      ],
      "metadata": {
        "colab": {
          "base_uri": "https://localhost:8080/"
        },
        "id": "MIfpMhBiKPyf",
        "outputId": "64da6055-d04f-49b2-c02b-fd1724e8608b"
      },
      "execution_count": null,
      "outputs": [
        {
          "output_type": "stream",
          "name": "stdout",
          "text": [
            "+-----------------+-----------------+------------------+-----------------+-----------------+-----------------+-----------------+-----------------+----------------+--------+--------------+----------+--------------+--------------+----+--------+-------------+------+--------+----+----+----+----+------+------+\n",
            "|              _c0|              _c1|               _c2|              _c3|              _c4|              _c5|              _c6|              _c7|             _c8|     _c9|          _c10|      _c11|          _c12|          _c13|_c14|    _c15|         _c16|  _c17|    _c18|_c19|_c20|_c21|_c22|  _c23|  _c24|\n",
            "+-----------------+-----------------+------------------+-----------------+-----------------+-----------------+-----------------+-----------------+----------------+--------+--------------+----------+--------------+--------------+----+--------+-------------+------+--------+----+----+----+----+------+------+\n",
            "|        full_name|                a|                 e|                i|               om|                w|                q|               ad|           per_y|data_arc|condition_code|n_obs_used|n_del_obs_used|n_dop_obs_used|   H|diameter|       extent|albedo| rot_per|  GM|  BV|  UB|  IR|spec_B|spec_T|\n",
            "|          1 Ceres|2.765348506018043|.07913825487621974|10.58682160714853|80.39319901972638|72.58981198193074|2.546503651127214|2.984193360908873|4.59867808742405|   76247|             0|      6354|          null|          null|3.34|   952.4|974.6 x 909.4| 0.090|9.074170|63.2|.713|.426|null|     C|     G|\n",
            "|         2 Pallas|2.772153211365543| .2309995596581508|34.84090359779853|173.1294969268293|310.1509424754423|2.131787040235174|3.412519382495912|4.61566250651666|   67748|             0|      7575|          null|          null|4.13|     545|  582x556x500|0.1587|  7.8132|14.3|.635|.284|null|     B|     B|\n",
            "|           3 Juno|2.670734109531325| .2553053920669768|12.97936961074331|169.8827828715336|248.3098641189519|1.988881290590782|3.352586928471868|4.36469782209858|   69075|             0|      6613|          null|          null|5.33|  233.92|         null|0.2383|   7.210|null|.824|.433|null|    Sk|     S|\n",
            "|          4 Vesta|2.361912323243681|.08862258545936168| 7.13406257854299|103.9096808087324|149.8373992529071|2.152593546529499|2.571231099957864|3.62997689220706|   66626|             0|      6635|          null|          null|3.20|     530|         null|0.4228|   5.342|17.8|.782|.492|null|     V|     V|\n",
            "|        5 Astraea|2.574755183044168| .1907415093097616|5.367230674966072|141.5972184678365|358.8509346507118|2.083642493327192|3.065867872761143|4.13154144669506|   61150|             0|      2052|          null|          null|6.85|  119.07|         null|0.2268|  16.800|null|.826|.411|null|     S|     S|\n",
            "|           6 Hebe|2.425830602568238|  .201754240548788|14.74653951771226|138.7104441879617|239.3771524439896|1.936408991647075|2.915252213489402| 3.7783214864595|   60166|             0|      5455|          null|          null|5.71|  185.18|         null|0.2679|  7.2745|null|.822|.399|null|     S|     S|\n",
            "|           7 Iris| 2.38628314231142| .2304693407095969|5.524500257087257|259.6371493568425|145.3809987905031|1.836318039756482|2.936248244866359|3.68630412378737|   60168|             0|      4780|             2|             0|5.51|  199.83|         null|0.2766|   7.139|null|.855|.484|null|     S|     S|\n",
            "|          8 Flora|2.201711320112488| .1562033447026308|5.887845989438686|110.9221809242452|285.3299955283301|1.857796647841273|2.545625992383703|3.26699722280796|   60462|             0|      2169|          null|          null|6.49|  135.89|         null|0.2426|  12.865|null|.885|.489|null|  null|     S|\n",
            "|          9 Metis|2.385914524251156| .1226961683417879|5.575230878777099|68.94446631274927|5.820533988969591|2.093171954134519|2.678657094367793|3.68545000104686|   69788|             0|      2304|          null|          null|6.28|     190|         null| 0.118|   5.079|null|.858|.496|null|  null|     S|\n",
            "|        10 Hygiea| 3.13703482450848| .1161087267838487|3.841901468143661|283.4181407681835|312.7581368994616|2.772797705158207|3.501271943858755|5.55631951840801|   59732|             0|      2837|          null|          null|5.43|  407.12|         null|0.0717|  27.623|  7.|.696|.351|null|     C|     C|\n",
            "|    11 Parthenope|2.453026163474056|.09884905668353604|4.626079419425239|125.5907116123572|195.3211744848736|2.210546841194613|  2.6955054857535|3.84203637913171|   59268|             0|      4561|          null|          null|6.55|  153.33|         null|0.1803| 13.7204|null|.837|.417|null|    Sk|     S|\n",
            "|      12 Victoria| 2.33314224071621|   .22133716125127|8.369397453666471|235.4909890235811|69.62194638339166|1.816731160360657|2.849553321071763| 3.5638550090852|   59428|             0|      2288|          null|          null|7.24|  112.77|         null|0.1765|  8.6599|null|.874|.515|null|     L|     S|\n",
            "|        13 Egeria| 2.57607670904018|.08388435912268577|16.54097158103967|43.25664195691625|79.85218509918263|2.359984165251467|2.792169252828893|4.13472270446902|   59351|             0|      1751|          null|          null|6.74|  207.64|         null|0.0825|   7.045|null|.745|.452|null|    Ch|     G|\n",
            "|         14 Irene|2.586095383707887| .1657173702279114| 9.11892251066654|86.16461779670949| 97.9547504515495|2.157534457561274|3.014656309854499|4.15886679822152|   59148|             0|      2161|          null|          null|6.30|     152|         null| 0.159|  15.028|null|.833|.388|null|     S|     S|\n",
            "|       15 Eunomia|2.642681236348856|  .188009819278114|11.73888290628259|293.1943680285797| 97.5737391200976|2.145831214693244|3.139531258004467|4.29610981401533|   59084|             0|      2072|          null|          null|5.28|  255.33|         null|0.2094|   6.083|null|.839|.451|null|     S|     S|\n",
            "|        16 Psyche|2.922733523744173| .1367578091341981|3.098484975647672|150.2888534094384|227.1229913524694|2.523026890353846|3.322440157134501| 4.9968007686579|   58859|             0|      2491|          null|          null|5.90|  253.16|         null|0.1203|   4.196|4.49|.729|.299|null|     X|     M|\n",
            "|        17 Thetis|2.469757907744916| .1339613711052189|5.588522066771778|125.5904663731616|135.4642566621479| 2.13890575212545|2.800610063364382|3.88141231290825|   58667|             0|      2341|          null|          null|7.76|   90.04|         null|0.1715|12.27048|null|.829|.438|null|    Sl|     S|\n",
            "|     18 Melpomene|2.295542683872335| .2180983128228575|10.12778247840432|150.4947314445103|228.0253566292369|1.794888697506925|2.796196670237746|3.47805352390418|   56982|             0|      4316|          null|          null|6.51|  140.57|         null|0.2225|  11.570|null|.854|.425|null|     S|     S|\n",
            "|       19 Fortuna|2.441881300686634| .1578556535373146|1.573403950208651|211.2339848633247|182.4025008614149|2.056416532106198|2.827346069267071|3.81588278747719|   58474|             0|      2193|          null|          null|7.13|     200|         null| 0.037|  7.4432|null|.719|.324|null|    Ch|     G|\n",
            "+-----------------+-----------------+------------------+-----------------+-----------------+-----------------+-----------------+-----------------+----------------+--------+--------------+----------+--------------+--------------+----+--------+-------------+------+--------+----+----+----+----+------+------+\n",
            "only showing top 20 rows\n",
            "\n"
          ]
        }
      ]
    },
    {
      "cell_type": "markdown",
      "source": [
        "The columns in the dataset are:\n",
        "\n",
        "* Name: The name of the asteroid.\n",
        "* Neo Reference ID: A unique identifier for the asteroid assigned by NASA.\n",
        "* Absolute Magnitude: The brightness of the asteroid, as seen from Earth.\n",
        "* Diameter (km): The estimated diameter of the asteroid in kilometers.\n",
        "* Est Dia in M(min): The estimated minimum diameter of the asteroid in meters.\n",
        "* Est Dia in M(max): The estimated maximum diameter of the asteroid in meters.\n",
        "* H: The asteroid's taxonomic type, which indicates its composition and surface features.\n",
        "* G: The asteroid's geometric albedo, which is a measure of its reflectivity.\n",
        "* T: The asteroid's synodic rotation period, which is the time it takes to rotate once on its axis.\n",
        "* U: The asteroid's measured or inferred impact probability on Earth.\n",
        "* Epoch: The date and time at which the asteroid's orbital elements were calculated.\n",
        "* Per: The asteroid's perihelion distance, which is the closest distance it comes to the Sun.\n",
        "* Aph: The asteroid's aphelion distance, which is the farthest distance it comes to the Sun.\n",
        "* Q: The asteroid's semi-major axis, which is half the distance between its perihelion and aphelion.\n",
        "* E: The asteroid's eccentricity, which is a measure of how elliptical its orbit is.\n",
        "* I: The asteroid's inclination, which is the angle between its orbital plane and the ecliptic plane.\n",
        "* Node: The point in the asteroid's orbit where it crosses the ecliptic plane from south to north.\n",
        "* Mean Motion: The asteroid's average orbital speed.\n",
        "* Opposition Date: The date and time when the asteroid will be closest to Earth in its orbit.\n",
        "* Magnitude: The asteroid's apparent magnitude, which is a measure of its brightness as seen from Earth.\n",
        "* Phase Angle: The angle between the Sun, the asteroid, and the observer.\n",
        "* Spectral Class: The asteroid's spectral type, which is a measure of its surface composition.\n",
        "* Rot Period (hrs): The asteroid's rotation period in hours.\n",
        "* Spectral slope: The asteroid's spectral slope, which is a measure of the variation in its spectral reflectance with wavelength.\n",
        "* Radar Albedo: The asteroid's radar albedo, which is a measure of its reflectivity to radar waves.\n",
        "* Radar H: The asteroid's radar brightness, which is a measure of its radar cross-section.\n",
        "* Hazardous: A flag indicating whether the asteroid is considered to be a potential hazard to Earth.\n",
        "* diameter: The diameter of the asteroid in kilometers.\n",
        "* extent: The extent of the asteroid in kilometers. This is the maximum length of the asteroid in any direction.\n",
        "* albedo: The albedo of the asteroid, which is a measure of its reflectivity.\n",
        "rot per: The rotation period of the asteroid in hours.\n",
        "* GM: The gravitational parameter of the asteroid. This is a measure of the asteroid's mass.\n",
        "* BV: The B-V color index of the asteroid. This is a measure of the asteroid's color.\n",
        "* UB: The U-B color index of the asteroid. This is another measure of the asteroid's color.\n",
        "* IR: The I-R color index of the asteroid. This is a third measure of the asteroid's color.\n",
        "* spec T: The taxonomic type of the asteroid. This is a measure of the asteroid's composition and surface features.\n",
        "* spec B: The spectral slope of the asteroid. This is a measure of the variation in its spectral reflectance with wavelength."
      ],
      "metadata": {
        "id": "c5OzFBaEvTfe"
      }
    },
    {
      "cell_type": "markdown",
      "source": [
        "## **Data Cleaning and Preprocessing**"
      ],
      "metadata": {
        "id": "WF6z9OVz0nQH"
      }
    },
    {
      "cell_type": "code",
      "source": [
        "# Define the new column names\n",
        "new_column_names = [\n",
        "    \"full_name\", \"a\", \"e\", \"i\", \"om\", \"w\", \"q\", \"ad\", \"per_y\", \"data_arc\",\n",
        "    \"condition_code\", \"n_obs_used\", \"n_del_obs_used\", \"n_dop_obs_used\", \"H\",\n",
        "    \"diameter\", \"extent\", \"albedo\", \"rot_per\", \"GM\", \"BV\", \"UB\", \"IR\",\n",
        "    \"spec_B\", \"spec_T\"\n",
        "]\n",
        "\n",
        "# Rename the columns using withColumnRenamed\n",
        "for old_name, new_name in zip(df.columns, new_column_names):\n",
        "    df = df.withColumnRenamed(old_name, new_name)\n",
        "\n",
        "# Show the renamed DataFrame\n",
        "df.show()"
      ],
      "metadata": {
        "colab": {
          "base_uri": "https://localhost:8080/"
        },
        "id": "HcTKoyNb0sOP",
        "outputId": "1cff1789-e5f8-494f-932d-e28e4d833568"
      },
      "execution_count": null,
      "outputs": [
        {
          "output_type": "stream",
          "name": "stdout",
          "text": [
            "+-----------------+-----------------+------------------+-----------------+-----------------+-----------------+-----------------+-----------------+----------------+--------+--------------+----------+--------------+--------------+----+--------+-------------+------+--------+----+----+----+----+------+------+\n",
            "|        full_name|                a|                 e|                i|               om|                w|                q|               ad|           per_y|data_arc|condition_code|n_obs_used|n_del_obs_used|n_dop_obs_used|   H|diameter|       extent|albedo| rot_per|  GM|  BV|  UB|  IR|spec_B|spec_T|\n",
            "+-----------------+-----------------+------------------+-----------------+-----------------+-----------------+-----------------+-----------------+----------------+--------+--------------+----------+--------------+--------------+----+--------+-------------+------+--------+----+----+----+----+------+------+\n",
            "|        full_name|                a|                 e|                i|               om|                w|                q|               ad|           per_y|data_arc|condition_code|n_obs_used|n_del_obs_used|n_dop_obs_used|   H|diameter|       extent|albedo| rot_per|  GM|  BV|  UB|  IR|spec_B|spec_T|\n",
            "|          1 Ceres|2.765348506018043|.07913825487621974|10.58682160714853|80.39319901972638|72.58981198193074|2.546503651127214|2.984193360908873|4.59867808742405|   76247|             0|      6354|          null|          null|3.34|   952.4|974.6 x 909.4| 0.090|9.074170|63.2|.713|.426|null|     C|     G|\n",
            "|         2 Pallas|2.772153211365543| .2309995596581508|34.84090359779853|173.1294969268293|310.1509424754423|2.131787040235174|3.412519382495912|4.61566250651666|   67748|             0|      7575|          null|          null|4.13|     545|  582x556x500|0.1587|  7.8132|14.3|.635|.284|null|     B|     B|\n",
            "|           3 Juno|2.670734109531325| .2553053920669768|12.97936961074331|169.8827828715336|248.3098641189519|1.988881290590782|3.352586928471868|4.36469782209858|   69075|             0|      6613|          null|          null|5.33|  233.92|         null|0.2383|   7.210|null|.824|.433|null|    Sk|     S|\n",
            "|          4 Vesta|2.361912323243681|.08862258545936168| 7.13406257854299|103.9096808087324|149.8373992529071|2.152593546529499|2.571231099957864|3.62997689220706|   66626|             0|      6635|          null|          null|3.20|     530|         null|0.4228|   5.342|17.8|.782|.492|null|     V|     V|\n",
            "|        5 Astraea|2.574755183044168| .1907415093097616|5.367230674966072|141.5972184678365|358.8509346507118|2.083642493327192|3.065867872761143|4.13154144669506|   61150|             0|      2052|          null|          null|6.85|  119.07|         null|0.2268|  16.800|null|.826|.411|null|     S|     S|\n",
            "|           6 Hebe|2.425830602568238|  .201754240548788|14.74653951771226|138.7104441879617|239.3771524439896|1.936408991647075|2.915252213489402| 3.7783214864595|   60166|             0|      5455|          null|          null|5.71|  185.18|         null|0.2679|  7.2745|null|.822|.399|null|     S|     S|\n",
            "|           7 Iris| 2.38628314231142| .2304693407095969|5.524500257087257|259.6371493568425|145.3809987905031|1.836318039756482|2.936248244866359|3.68630412378737|   60168|             0|      4780|             2|             0|5.51|  199.83|         null|0.2766|   7.139|null|.855|.484|null|     S|     S|\n",
            "|          8 Flora|2.201711320112488| .1562033447026308|5.887845989438686|110.9221809242452|285.3299955283301|1.857796647841273|2.545625992383703|3.26699722280796|   60462|             0|      2169|          null|          null|6.49|  135.89|         null|0.2426|  12.865|null|.885|.489|null|  null|     S|\n",
            "|          9 Metis|2.385914524251156| .1226961683417879|5.575230878777099|68.94446631274927|5.820533988969591|2.093171954134519|2.678657094367793|3.68545000104686|   69788|             0|      2304|          null|          null|6.28|     190|         null| 0.118|   5.079|null|.858|.496|null|  null|     S|\n",
            "|        10 Hygiea| 3.13703482450848| .1161087267838487|3.841901468143661|283.4181407681835|312.7581368994616|2.772797705158207|3.501271943858755|5.55631951840801|   59732|             0|      2837|          null|          null|5.43|  407.12|         null|0.0717|  27.623|  7.|.696|.351|null|     C|     C|\n",
            "|    11 Parthenope|2.453026163474056|.09884905668353604|4.626079419425239|125.5907116123572|195.3211744848736|2.210546841194613|  2.6955054857535|3.84203637913171|   59268|             0|      4561|          null|          null|6.55|  153.33|         null|0.1803| 13.7204|null|.837|.417|null|    Sk|     S|\n",
            "|      12 Victoria| 2.33314224071621|   .22133716125127|8.369397453666471|235.4909890235811|69.62194638339166|1.816731160360657|2.849553321071763| 3.5638550090852|   59428|             0|      2288|          null|          null|7.24|  112.77|         null|0.1765|  8.6599|null|.874|.515|null|     L|     S|\n",
            "|        13 Egeria| 2.57607670904018|.08388435912268577|16.54097158103967|43.25664195691625|79.85218509918263|2.359984165251467|2.792169252828893|4.13472270446902|   59351|             0|      1751|          null|          null|6.74|  207.64|         null|0.0825|   7.045|null|.745|.452|null|    Ch|     G|\n",
            "|         14 Irene|2.586095383707887| .1657173702279114| 9.11892251066654|86.16461779670949| 97.9547504515495|2.157534457561274|3.014656309854499|4.15886679822152|   59148|             0|      2161|          null|          null|6.30|     152|         null| 0.159|  15.028|null|.833|.388|null|     S|     S|\n",
            "|       15 Eunomia|2.642681236348856|  .188009819278114|11.73888290628259|293.1943680285797| 97.5737391200976|2.145831214693244|3.139531258004467|4.29610981401533|   59084|             0|      2072|          null|          null|5.28|  255.33|         null|0.2094|   6.083|null|.839|.451|null|     S|     S|\n",
            "|        16 Psyche|2.922733523744173| .1367578091341981|3.098484975647672|150.2888534094384|227.1229913524694|2.523026890353846|3.322440157134501| 4.9968007686579|   58859|             0|      2491|          null|          null|5.90|  253.16|         null|0.1203|   4.196|4.49|.729|.299|null|     X|     M|\n",
            "|        17 Thetis|2.469757907744916| .1339613711052189|5.588522066771778|125.5904663731616|135.4642566621479| 2.13890575212545|2.800610063364382|3.88141231290825|   58667|             0|      2341|          null|          null|7.76|   90.04|         null|0.1715|12.27048|null|.829|.438|null|    Sl|     S|\n",
            "|     18 Melpomene|2.295542683872335| .2180983128228575|10.12778247840432|150.4947314445103|228.0253566292369|1.794888697506925|2.796196670237746|3.47805352390418|   56982|             0|      4316|          null|          null|6.51|  140.57|         null|0.2225|  11.570|null|.854|.425|null|     S|     S|\n",
            "|       19 Fortuna|2.441881300686634| .1578556535373146|1.573403950208651|211.2339848633247|182.4025008614149|2.056416532106198|2.827346069267071|3.81588278747719|   58474|             0|      2193|          null|          null|7.13|     200|         null| 0.037|  7.4432|null|.719|.324|null|    Ch|     G|\n",
            "+-----------------+-----------------+------------------+-----------------+-----------------+-----------------+-----------------+-----------------+----------------+--------+--------------+----------+--------------+--------------+----+--------+-------------+------+--------+----+----+----+----+------+------+\n",
            "only showing top 20 rows\n",
            "\n"
          ]
        }
      ]
    },
    {
      "cell_type": "code",
      "source": [
        "from pyspark.sql import SparkSession\n",
        "from pyspark.sql.window import Window\n",
        "from pyspark.sql import functions as F\n",
        "\n",
        "# Add a row index to the DataFrame\n",
        "windowSpec = Window.orderBy(F.monotonically_increasing_id())\n",
        "df = df.withColumn(\"row_index\", F.row_number().over(windowSpec))\n",
        "\n",
        "# Filter out the first row\n",
        "df = df.filter(df.row_index != 1).drop(\"row_index\")\n",
        "\n",
        "# Show the DataFrame without the first row\n",
        "df.show()"
      ],
      "metadata": {
        "colab": {
          "base_uri": "https://localhost:8080/"
        },
        "id": "jDRr8jHX1FoN",
        "outputId": "66671a53-f73a-4bae-d7a1-9e8525f70593"
      },
      "execution_count": null,
      "outputs": [
        {
          "output_type": "stream",
          "name": "stdout",
          "text": [
            "+-----------------+-----------------+------------------+-----------------+-----------------+-----------------+-----------------+-----------------+----------------+--------+--------------+----------+--------------+--------------+----+--------+-------------+------+--------+----+----+----+----+------+------+\n",
            "|        full_name|                a|                 e|                i|               om|                w|                q|               ad|           per_y|data_arc|condition_code|n_obs_used|n_del_obs_used|n_dop_obs_used|   H|diameter|       extent|albedo| rot_per|  GM|  BV|  UB|  IR|spec_B|spec_T|\n",
            "+-----------------+-----------------+------------------+-----------------+-----------------+-----------------+-----------------+-----------------+----------------+--------+--------------+----------+--------------+--------------+----+--------+-------------+------+--------+----+----+----+----+------+------+\n",
            "|          1 Ceres|2.765348506018043|.07913825487621974|10.58682160714853|80.39319901972638|72.58981198193074|2.546503651127214|2.984193360908873|4.59867808742405|   76247|             0|      6354|          null|          null|3.34|   952.4|974.6 x 909.4| 0.090|9.074170|63.2|.713|.426|null|     C|     G|\n",
            "|         2 Pallas|2.772153211365543| .2309995596581508|34.84090359779853|173.1294969268293|310.1509424754423|2.131787040235174|3.412519382495912|4.61566250651666|   67748|             0|      7575|          null|          null|4.13|     545|  582x556x500|0.1587|  7.8132|14.3|.635|.284|null|     B|     B|\n",
            "|           3 Juno|2.670734109531325| .2553053920669768|12.97936961074331|169.8827828715336|248.3098641189519|1.988881290590782|3.352586928471868|4.36469782209858|   69075|             0|      6613|          null|          null|5.33|  233.92|         null|0.2383|   7.210|null|.824|.433|null|    Sk|     S|\n",
            "|          4 Vesta|2.361912323243681|.08862258545936168| 7.13406257854299|103.9096808087324|149.8373992529071|2.152593546529499|2.571231099957864|3.62997689220706|   66626|             0|      6635|          null|          null|3.20|     530|         null|0.4228|   5.342|17.8|.782|.492|null|     V|     V|\n",
            "|        5 Astraea|2.574755183044168| .1907415093097616|5.367230674966072|141.5972184678365|358.8509346507118|2.083642493327192|3.065867872761143|4.13154144669506|   61150|             0|      2052|          null|          null|6.85|  119.07|         null|0.2268|  16.800|null|.826|.411|null|     S|     S|\n",
            "|           6 Hebe|2.425830602568238|  .201754240548788|14.74653951771226|138.7104441879617|239.3771524439896|1.936408991647075|2.915252213489402| 3.7783214864595|   60166|             0|      5455|          null|          null|5.71|  185.18|         null|0.2679|  7.2745|null|.822|.399|null|     S|     S|\n",
            "|           7 Iris| 2.38628314231142| .2304693407095969|5.524500257087257|259.6371493568425|145.3809987905031|1.836318039756482|2.936248244866359|3.68630412378737|   60168|             0|      4780|             2|             0|5.51|  199.83|         null|0.2766|   7.139|null|.855|.484|null|     S|     S|\n",
            "|          8 Flora|2.201711320112488| .1562033447026308|5.887845989438686|110.9221809242452|285.3299955283301|1.857796647841273|2.545625992383703|3.26699722280796|   60462|             0|      2169|          null|          null|6.49|  135.89|         null|0.2426|  12.865|null|.885|.489|null|  null|     S|\n",
            "|          9 Metis|2.385914524251156| .1226961683417879|5.575230878777099|68.94446631274927|5.820533988969591|2.093171954134519|2.678657094367793|3.68545000104686|   69788|             0|      2304|          null|          null|6.28|     190|         null| 0.118|   5.079|null|.858|.496|null|  null|     S|\n",
            "|        10 Hygiea| 3.13703482450848| .1161087267838487|3.841901468143661|283.4181407681835|312.7581368994616|2.772797705158207|3.501271943858755|5.55631951840801|   59732|             0|      2837|          null|          null|5.43|  407.12|         null|0.0717|  27.623|  7.|.696|.351|null|     C|     C|\n",
            "|    11 Parthenope|2.453026163474056|.09884905668353604|4.626079419425239|125.5907116123572|195.3211744848736|2.210546841194613|  2.6955054857535|3.84203637913171|   59268|             0|      4561|          null|          null|6.55|  153.33|         null|0.1803| 13.7204|null|.837|.417|null|    Sk|     S|\n",
            "|      12 Victoria| 2.33314224071621|   .22133716125127|8.369397453666471|235.4909890235811|69.62194638339166|1.816731160360657|2.849553321071763| 3.5638550090852|   59428|             0|      2288|          null|          null|7.24|  112.77|         null|0.1765|  8.6599|null|.874|.515|null|     L|     S|\n",
            "|        13 Egeria| 2.57607670904018|.08388435912268577|16.54097158103967|43.25664195691625|79.85218509918263|2.359984165251467|2.792169252828893|4.13472270446902|   59351|             0|      1751|          null|          null|6.74|  207.64|         null|0.0825|   7.045|null|.745|.452|null|    Ch|     G|\n",
            "|         14 Irene|2.586095383707887| .1657173702279114| 9.11892251066654|86.16461779670949| 97.9547504515495|2.157534457561274|3.014656309854499|4.15886679822152|   59148|             0|      2161|          null|          null|6.30|     152|         null| 0.159|  15.028|null|.833|.388|null|     S|     S|\n",
            "|       15 Eunomia|2.642681236348856|  .188009819278114|11.73888290628259|293.1943680285797| 97.5737391200976|2.145831214693244|3.139531258004467|4.29610981401533|   59084|             0|      2072|          null|          null|5.28|  255.33|         null|0.2094|   6.083|null|.839|.451|null|     S|     S|\n",
            "|        16 Psyche|2.922733523744173| .1367578091341981|3.098484975647672|150.2888534094384|227.1229913524694|2.523026890353846|3.322440157134501| 4.9968007686579|   58859|             0|      2491|          null|          null|5.90|  253.16|         null|0.1203|   4.196|4.49|.729|.299|null|     X|     M|\n",
            "|        17 Thetis|2.469757907744916| .1339613711052189|5.588522066771778|125.5904663731616|135.4642566621479| 2.13890575212545|2.800610063364382|3.88141231290825|   58667|             0|      2341|          null|          null|7.76|   90.04|         null|0.1715|12.27048|null|.829|.438|null|    Sl|     S|\n",
            "|     18 Melpomene|2.295542683872335| .2180983128228575|10.12778247840432|150.4947314445103|228.0253566292369|1.794888697506925|2.796196670237746|3.47805352390418|   56982|             0|      4316|          null|          null|6.51|  140.57|         null|0.2225|  11.570|null|.854|.425|null|     S|     S|\n",
            "|       19 Fortuna|2.441881300686634| .1578556535373146|1.573403950208651|211.2339848633247|182.4025008614149|2.056416532106198|2.827346069267071|3.81588278747719|   58474|             0|      2193|          null|          null|7.13|     200|         null| 0.037|  7.4432|null|.719|.324|null|    Ch|     G|\n",
            "|      20 Massalia|2.408515038486852| .1425955555754171|.7081886192801295|206.1947459787308|256.7979172645249|2.065071498462072|2.751958578511632|3.73793930981206|   58001|             0|      1847|          null|          null|6.50|  145.50|         null|0.2096|   8.098|null|.854|.463|null|     S|     S|\n",
            "+-----------------+-----------------+------------------+-----------------+-----------------+-----------------+-----------------+-----------------+----------------+--------+--------------+----------+--------------+--------------+----+--------+-------------+------+--------+----+----+----+----+------+------+\n",
            "only showing top 20 rows\n",
            "\n"
          ]
        }
      ]
    },
    {
      "cell_type": "code",
      "source": [
        "# Remove duplicate rows based on \"full_name\" column\n",
        "df_cleaned = df.dropDuplicates(subset=['full_name'])\n",
        "df_cleaned.show()"
      ],
      "metadata": {
        "colab": {
          "base_uri": "https://localhost:8080/"
        },
        "id": "TmnE9BDZ3BXf",
        "outputId": "f81d60c1-db40-4954-ed58-06c310eab7ba"
      },
      "execution_count": null,
      "outputs": [
        {
          "output_type": "stream",
          "name": "stdout",
          "text": [
            "+-----------------+---------+---------+--------+---------+---------+---------+---------+----------------+--------+--------------+----------+--------------+--------------+----+--------+------+------+-------+----+----+----+----+------+------+\n",
            "|        full_name|        a|        e|       i|       om|        w|        q|       ad|           per_y|data_arc|condition_code|n_obs_used|n_del_obs_used|n_dop_obs_used|   H|diameter|extent|albedo|rot_per|  GM|  BV|  UB|  IR|spec_B|spec_T|\n",
            "+-----------------+---------+---------+--------+---------+---------+---------+---------+----------------+--------+--------------+----------+--------------+--------------+----+--------+------+------+-------+----+----+----+----+------+------+\n",
            "|       (1077 T-2)|2.6440377|0.2097091| 4.51445|207.39193|167.43097|2.0895589|3.1985165|4.29941786830938|       6|          null|         8|          null|          null|17.0|    null|  null|  null|   null|null|null|null|null|  null|  null|\n",
            "|       (1083 T-1)|2.6319796|0.3016260| 6.79700|358.69706|187.30647|1.8381061|3.4258531|4.27004028117728|    null|             1|        66|          null|          null|17.0|    null|  null|  null|   null|null|null|null|null|  null|  null|\n",
            "|       (1131 T-3)|2.6970122|0.3248500| 8.73989|236.22199|142.22056|1.8208878|3.5731366|4.42927422039699|    null|             3|        58|          null|          null|17.2|    null|  null|  null|   null|null|null|null|null|  null|  null|\n",
            "|       (1143 T-3)|2.1831315|0.2578686| 6.20601|254.71285| 86.44154|1.6201704|2.7460926|3.22573020506502|       6|          null|         8|          null|          null|17.9|    null|  null|  null|   null|null|null|null|null|  null|  null|\n",
            "|       (1168 T-2)|2.6445752|0.2593026|12.56869|  1.61933|339.59805|1.9588300|3.3303204|4.30072902477755|      16|          null|        15|          null|          null|17.5|    null|  null|  null|   null|null|null|null|null|  null|  null|\n",
            "|       (1193 T-2)|2.5681014|0.2234006| 5.51561|  5.40604|  3.13097|1.9943860|3.1418168|4.11553644298426|      11|          null|        12|          null|          null|16.8|    null|  null|  null|   null|null|null|null|null|  null|  null|\n",
            "|       (1349 T-2)|2.5417221|0.2519397| 2.39415|193.36338|189.48846|1.9013614|3.1820828|4.05228810184805|    null|             3|        98|          null|          null|17.1|    null|  null|  null|   null|null|null|null|null|  null|  null|\n",
            "|       (1453 T-2)|2.3755263|0.2647387| 2.71080|344.97743|357.00741|1.7466326|3.0044200|3.66140664312115|    null|             4|        32|          null|          null|18.2|    null|  null|  null|   null|null|null|null|null|  null|  null|\n",
            "|       (1917 T-3)|2.8512136|0.3231547| 6.89910|274.12028|147.13948|1.9298305|3.7725967|4.81451841149897|    null|             2|        42|          null|          null|16.9|    null|  null|  null|   null|null|null|null|null|  null|  null|\n",
            "|        (1927 LA)|3.3451000|0.3341000|17.63374|191.72427|341.03399|2.2275021|4.4626979|6.11817447474333|      34|          null|         3|          null|          null|11.0|    null|  null|  null|   null|null|null|null|null|  null|  null|\n",
            "|        (1935 UZ)|2.1665930|0.2512915| 4.79105|134.71619|280.78385|1.6221466|2.7110394|3.18914460232717|       4|             E|         3|          null|          null|null|    null|  null|  null|   null|null|null|null|null|  null|  null|\n",
            "|        (1937 CK)|2.3197000|0.1390000| 6.55106|274.91456|128.73361|1.9972617|2.6421383|3.53310009390828|      32|          null|         3|          null|          null|null|    null|  null|  null|   null|null|null|null|null|  null|  null|\n",
            "|        (1939 RR)|2.9046747|0.2536844|13.13929|322.99733| 64.83753|2.1678040|3.6415454|4.95056142039699|      27|          null|         3|          null|          null|12.0|    null|  null|  null|   null|null|null|null|null|  null|  null|\n",
            "|        (1942 RH)|2.2888190|0.1412450| 4.39399|204.90148|134.01758|1.9655348|2.6121032|3.46278380780287|      10|          null|         3|          null|          null|13.8|    null|  null|  null|   null|null|null|null|null|  null|  null|\n",
            "|       (1960 SB1)|2.7525672|0.4948121| 9.81190|201.32578|218.10800|1.3905636|4.1145708|4.56683261930185|       4|             E|         6|          null|          null|17.4|    null|  null|  null|   null|null|null|null|null|  null|  null|\n",
            "|       (1960 SC1)|2.5431191|0.2088182| 8.87709|354.35882|328.47649|2.0120695|3.0741687|4.05562945462012|      32|          null|        10|          null|          null|16.7|    null|  null|  null|   null|null|null|null|null|  null|  null|\n",
            "|       (1960 SD1)|2.5065388|0.2096663|10.73187|201.04656|159.15960|1.9810021|3.0320755|3.96844031950719|       5|          null|         8|          null|          null|17.0|    null|  null|  null|   null|null|null|null|null|  null|  null|\n",
            "|        (1960 SM)|2.6922209|0.1390619|10.72867|193.97989|199.10016|2.3178355|3.0666063|4.41747644134155|       4|          null|         6|          null|          null|16.5|    null|  null|  null|   null|null|null|null|null|  null|  null|\n",
            "|        (1960 SO)|3.1197138|0.1241361| 8.69944|352.19897|342.24970|2.7324447|3.5069829|5.51036452238193|       4|          null|         7|          null|          null|15.8|    null|  null|  null|   null|null|null|null|null|  null|  null|\n",
            "|        (1960 SQ)|2.7608769|0.3079754| 7.33240|184.08281|114.28899|1.9105947|3.6111591|4.58752831293635|       4|          null|         7|          null|          null|16.5|    null|  null|  null|   null|null|null|null|null|  null|  null|\n",
            "+-----------------+---------+---------+--------+---------+---------+---------+---------+----------------+--------+--------------+----------+--------------+--------------+----+--------+------+------+-------+----+----+----+----+------+------+\n",
            "only showing top 20 rows\n",
            "\n"
          ]
        }
      ]
    },
    {
      "cell_type": "code",
      "source": [
        "from pyspark.sql.types import DoubleType\n",
        "\n",
        "# Convert columns to appropriate data types\n",
        "columns_to_convert = ['a', 'e', 'i', 'om', 'w', 'q', 'ad', 'per_y', 'H', 'diameter', 'extent', 'albedo', 'rot_per']\n",
        "for col_name in columns_to_convert:\n",
        "    df_cleaned = df_cleaned.withColumn(col_name, col(col_name).cast(DoubleType()))\n",
        "\n",
        "df_cleaned.show()\n"
      ],
      "metadata": {
        "colab": {
          "base_uri": "https://localhost:8080/",
          "height": 245
        },
        "id": "HZQBEdYb33w9",
        "outputId": "364672f0-e900-4f00-c143-129139885d34"
      },
      "execution_count": null,
      "outputs": [
        {
          "output_type": "error",
          "ename": "NameError",
          "evalue": "ignored",
          "traceback": [
            "\u001b[0;31m---------------------------------------------------------------------------\u001b[0m",
            "\u001b[0;31mNameError\u001b[0m                                 Traceback (most recent call last)",
            "\u001b[0;32m<ipython-input-10-503637985f86>\u001b[0m in \u001b[0;36m<cell line: 5>\u001b[0;34m()\u001b[0m\n\u001b[1;32m      4\u001b[0m \u001b[0mcolumns_to_convert\u001b[0m \u001b[0;34m=\u001b[0m \u001b[0;34m[\u001b[0m\u001b[0;34m'a'\u001b[0m\u001b[0;34m,\u001b[0m \u001b[0;34m'e'\u001b[0m\u001b[0;34m,\u001b[0m \u001b[0;34m'i'\u001b[0m\u001b[0;34m,\u001b[0m \u001b[0;34m'om'\u001b[0m\u001b[0;34m,\u001b[0m \u001b[0;34m'w'\u001b[0m\u001b[0;34m,\u001b[0m \u001b[0;34m'q'\u001b[0m\u001b[0;34m,\u001b[0m \u001b[0;34m'ad'\u001b[0m\u001b[0;34m,\u001b[0m \u001b[0;34m'per_y'\u001b[0m\u001b[0;34m,\u001b[0m \u001b[0;34m'H'\u001b[0m\u001b[0;34m,\u001b[0m \u001b[0;34m'diameter'\u001b[0m\u001b[0;34m,\u001b[0m \u001b[0;34m'extent'\u001b[0m\u001b[0;34m,\u001b[0m \u001b[0;34m'albedo'\u001b[0m\u001b[0;34m,\u001b[0m \u001b[0;34m'rot_per'\u001b[0m\u001b[0;34m]\u001b[0m\u001b[0;34m\u001b[0m\u001b[0;34m\u001b[0m\u001b[0m\n\u001b[1;32m      5\u001b[0m \u001b[0;32mfor\u001b[0m \u001b[0mcol_name\u001b[0m \u001b[0;32min\u001b[0m \u001b[0mcolumns_to_convert\u001b[0m\u001b[0;34m:\u001b[0m\u001b[0;34m\u001b[0m\u001b[0;34m\u001b[0m\u001b[0m\n\u001b[0;32m----> 6\u001b[0;31m     \u001b[0mdf_cleaned\u001b[0m \u001b[0;34m=\u001b[0m \u001b[0mdf_cleaned\u001b[0m\u001b[0;34m.\u001b[0m\u001b[0mwithColumn\u001b[0m\u001b[0;34m(\u001b[0m\u001b[0mcol_name\u001b[0m\u001b[0;34m,\u001b[0m \u001b[0mcol\u001b[0m\u001b[0;34m(\u001b[0m\u001b[0mcol_name\u001b[0m\u001b[0;34m)\u001b[0m\u001b[0;34m.\u001b[0m\u001b[0mcast\u001b[0m\u001b[0;34m(\u001b[0m\u001b[0mDoubleType\u001b[0m\u001b[0;34m(\u001b[0m\u001b[0;34m)\u001b[0m\u001b[0;34m)\u001b[0m\u001b[0;34m)\u001b[0m\u001b[0;34m\u001b[0m\u001b[0;34m\u001b[0m\u001b[0m\n\u001b[0m\u001b[1;32m      7\u001b[0m \u001b[0;34m\u001b[0m\u001b[0m\n\u001b[1;32m      8\u001b[0m \u001b[0mdf_cleaned\u001b[0m\u001b[0;34m.\u001b[0m\u001b[0mshow\u001b[0m\u001b[0;34m(\u001b[0m\u001b[0;34m)\u001b[0m\u001b[0;34m\u001b[0m\u001b[0;34m\u001b[0m\u001b[0m\n",
            "\u001b[0;31mNameError\u001b[0m: name 'col' is not defined"
          ]
        }
      ]
    },
    {
      "cell_type": "code",
      "source": [
        "# Count the number of rows in the DataFrame\n",
        "row_count = df.count()\n",
        "\n",
        "# Print the row count\n",
        "print(\"Number of rows:\", row_count)\n"
      ],
      "metadata": {
        "colab": {
          "base_uri": "https://localhost:8080/"
        },
        "id": "wXMobhLD4Hxh",
        "outputId": "6ffb1e29-7360-4c42-9bb6-40b1c64a33a9"
      },
      "execution_count": null,
      "outputs": [
        {
          "output_type": "stream",
          "name": "stdout",
          "text": [
            "Number of rows: 620291\n"
          ]
        }
      ]
    },
    {
      "cell_type": "markdown",
      "source": [
        "# **Working on the Orbital Analysis**"
      ],
      "metadata": {
        "id": "ibEd27Jj48F3"
      }
    },
    {
      "cell_type": "code",
      "source": [
        "from pyspark.sql.functions import radians, degrees, sqrt, col\n",
        "from pyspark.sql.types import DoubleType\n",
        "\n",
        "\n",
        "# Rename columns to match the changed names\n",
        "new_column_names = [\n",
        "    \"full_name\", \"a\", \"e\", \"i\", \"om\", \"w\", \"q\", \"ad\", \"per_y\", \"data_arc\",\n",
        "    \"condition_code\", \"n_obs_used\", \"n_del_obs_used\", \"n_dop_obs_used\", \"H\",\n",
        "    \"diameter\", \"extent\", \"albedo\", \"rot_per\", \"GM\", \"BV\", \"UB\", \"IR\",\n",
        "    \"spec_B\", \"spec_T\"\n",
        "]\n",
        "for old_name, new_name in zip(df.columns, new_column_names):\n",
        "    df = df.withColumnRenamed(old_name, new_name)\n",
        "\n",
        "# Define necessary constants\n",
        "G = 6.67430e-11  # Gravitational constant in m^3 kg^-1 s^-2\n",
        "M_sun = 1.989e30  # Solar mass in kg\n",
        "\n",
        "# Convert orbital elements to radians\n",
        "df = df.withColumn(\"om_rad\", radians(df['om']))\n",
        "df = df.withColumn(\"w_rad\", radians(df['w']))\n",
        "\n",
        "# Calculate semi-major axis (a) in meters\n",
        "df = df.withColumn(\"a_m\", df['q'] / (1 - df['e']))\n",
        "\n",
        "# Calculate orbital period (T) in seconds\n",
        "df = df.withColumn(\"orbital_period_s\", 2 * 3.141592653589793 * sqrt(df['a_m']**3 / (G * M_sun)))\n",
        "\n",
        "# Calculate orbital velocity (v) in m/s\n",
        "df = df.withColumn(\"orbital_velocity_m_s\", 2 * 3.141592653589793 * df['a_m'] / df['orbital_period_s'])\n",
        "\n",
        "# Calculate orbital inclination (i) in degrees\n",
        "df = df.withColumn(\"orbital_inclination_deg\", degrees(df['i']))\n",
        "\n",
        "# Calculate synodic rotation period (T_syn) in hours\n",
        "df = df.withColumn(\"synodic_rotation_period_hrs\", df['rot_per'] / (1 - df['e']))\n",
        "\n",
        "# Show the DataFrame with calculated orbital parameters\n",
        "df.show()\n"
      ],
      "metadata": {
        "colab": {
          "base_uri": "https://localhost:8080/"
        },
        "id": "TUWjiqXq5ouP",
        "outputId": "c96ee4c4-8844-4a6e-cee6-a6e3700e054e"
      },
      "execution_count": null,
      "outputs": [
        {
          "output_type": "stream",
          "name": "stdout",
          "text": [
            "+-----------------+-----------------+------------------+-----------------+-----------------+-----------------+-----------------+-----------------+----------------+--------+--------------+----------+--------------+--------------+----+--------+-------------+------+--------+----+----+----+----+------+------+------------------+-------------------+------------------+--------------------+--------------------+-----------------------+---------------------------+\n",
            "|        full_name|                a|                 e|                i|               om|                w|                q|               ad|           per_y|data_arc|condition_code|n_obs_used|n_del_obs_used|n_dop_obs_used|   H|diameter|       extent|albedo| rot_per|  GM|  BV|  UB|  IR|spec_B|spec_T|            om_rad|              w_rad|               a_m|    orbital_period_s|orbital_velocity_m_s|orbital_inclination_deg|synodic_rotation_period_hrs|\n",
            "+-----------------+-----------------+------------------+-----------------+-----------------+-----------------+-----------------+-----------------+----------------+--------+--------------+----------+--------------+--------------+----+--------+-------------+------+--------+----+----+----+----+------+------+------------------+-------------------+------------------+--------------------+--------------------+-----------------------+---------------------------+\n",
            "|          1 Ceres|2.765348506018043|.07913825487621974|10.58682160714853|80.39319901972638|72.58981198193074|2.546503651127214|2.984193360908873|4.59867808742405|   76247|             0|      6354|          null|          null|3.34|   952.4|974.6 x 909.4| 0.090|9.074170|63.2|.713|.426|null|     C|     G|1.4031260191053032|  1.266931222488322|2.7653485060180434|2.507751057631409...|  6.92859725823607E9|       606.580196547518|          9.853998222914852|\n",
            "|         2 Pallas|2.772153211365543| .2309995596581508|34.84090359779853|173.1294969268293|310.1509424754423|2.131787040235174|3.412519382495912|4.61566250651666|   67748|             0|      7575|          null|          null|4.13|     545|  582x556x500|0.1587|  7.8132|14.3|.635|.284|null|     B|     B|3.0216797536945754|  5.413155124360001| 2.772153211365543|2.517013000766595E-9| 6.920088343444305E9|     1996.2367305760213|         10.160202244522438|\n",
            "|           3 Juno|2.670734109531325| .2553053920669768|12.97936961074331|169.8827828715336|248.3098641189519|1.988881290590782|3.352586928471868|4.36469782209858|   69075|             0|      6613|          null|          null|5.33|  233.92|         null|0.2383|   7.210|null|.824|.433|null|    Sk|     S|2.9650139035588885|   4.33382469405544| 2.670734109531325|2.380156943262012E-9| 7.050256649627714E9|      743.6630994359498|          9.681821142779722|\n",
            "|          4 Vesta|2.361912323243681|.08862258545936168| 7.13406257854299|103.9096808087324|149.8373992529071|2.152593546529499|2.571231099957864|3.62997689220706|   66626|             0|      6635|          null|          null|3.20|     530|         null|0.4228|   5.342|17.8|.782|.492|null|     V|     V|1.8135660548087447| 2.6151559595885203|2.3619123232436814|1.979498938076120...| 7.497014785304433E9|      408.7516765327307|          5.861457519980927|\n",
            "|        5 Astraea|2.574755183044168| .1907415093097616|5.367230674966072|141.5972184678365|358.8509346507118|2.083642493327192|3.065867872761143|4.13154144669506|   61150|             0|      2052|          null|          null|6.85|  119.07|         null|0.2268|  16.800|null|.826|.411|null|     S|     S|2.4713376739294675|  6.263130333513929|2.5747551830441684|2.253012112531056E-9| 7.180460258384256E9|     307.51966534870803|         20.759745116385282|\n",
            "|           6 Hebe|2.425830602568238|  .201754240548788|14.74653951771226|138.7104441879617|239.3771524439896|1.936408991647075|2.915252213489402| 3.7783214864595|   60166|             0|      5455|          null|          null|5.71|  185.18|         null|0.2679|  7.2745|null|.822|.399|null|     S|     S|2.4209539579837642|   4.17791946419601| 2.425830602568239|2.060394209729901...| 7.397585922046169E9|       844.914476787797|           9.11310822997815|\n",
            "|           7 Iris| 2.38628314231142| .2304693407095969|5.524500257087257|259.6371493568425|145.3809987905031|1.836318039756482|2.936248244866359|3.68630412378737|   60168|             0|      4780|             2|             0|5.51|  199.83|         null|0.2766|   7.139|null|.855|.484|null|     S|     S| 4.531523116769179|  2.537377098732173|  2.38628314231142|2.010215303058324E-9| 7.458633488527587E9|      316.5305486500381|          9.277083263430972|\n",
            "|          8 Flora|2.201711320112488| .1562033447026308|5.887845989438686|110.9221809242452|285.3299955283301|1.857796647841273|2.545625992383703|3.26699722280796|   60462|             0|      2169|          null|          null|6.49|  135.89|         null|0.2426|  12.865|null|.885|.489|null|  null|     S|1.9359572706209256|  4.979947876670058|2.2017113201124885|1.781558870837327...| 7.764975069659041E9|       337.348725617865|         15.246564346081867|\n",
            "|          9 Metis|2.385914524251156| .1226961683417879|5.575230878777099|68.94446631274927|5.820533988969591|2.093171954134519|2.678657094367793|3.68545000104686|   69788|             0|      2304|          null|          null|6.28|     190|         null| 0.118|   5.079|null|.858|.496|null|  null|     S|1.2033079381877894|0.10158748233175867|2.3859145242511555|2.009749532859769E-9| 7.459209636749916E9|     319.43719916494086|          5.789328413623893|\n",
            "|        10 Hygiea| 3.13703482450848| .1161087267838487|3.841901468143661|283.4181407681835|312.7581368994616|2.772797705158207|3.501271943858755|5.55631951840801|   59732|             0|      2837|          null|          null|5.43|  407.12|         null|0.0717|  27.623|  7.|.696|.351|null|     C|     C| 4.946579716285573|  5.458659251298774|3.1370348245084814|3.029972066740336E-9| 6.505198953423735E9|     220.12473942974648|          31.25158131665922|\n",
            "|    11 Parthenope|2.453026163474056|.09884905668353604|4.626079419425239|125.5907116123572|195.3211744848736|2.210546841194613|  2.6955054857535|3.84203637913171|   59268|             0|      4561|          null|          null|6.55|  153.33|         null|0.1803| 13.7204|null|.837|.417|null|    Sk|     S|2.1919714275583093| 3.4089975936233836| 2.453026163474057|2.095139213935035...| 7.356464833436703E9|      265.0548264253964|         15.225418229609181|\n",
            "|      12 Victoria| 2.33314224071621|   .22133716125127|8.369397453666471|235.4909890235811|69.62194638339166|1.816731160360657|2.849553321071763| 3.5638550090852|   59428|             0|      2288|          null|          null|7.24|  112.77|         null|0.1765|  8.6599|null|.874|.515|null|     L|     S| 4.110093117239317| 1.2151321960371428|2.3331422407162106|1.943441353879287E-9| 7.543096176875272E9|      479.5311511626267|         11.121501591004396|\n",
            "|        13 Egeria| 2.57607670904018|.08388435912268577|16.54097158103967|43.25664195691625|79.85218509918263|2.359984165251467|2.792169252828893|4.13472270446902|   59351|             0|      1751|          null|          null|6.74|  207.64|         null|0.0825|   7.045|null|.745|.452|null|    Ch|     G|0.7549708255045117| 1.3936835448926916|  2.57607670904018|2.254746915967084E-9|  7.17861823594799E9|      947.7278606394096|          7.690077197299443|\n",
            "|         14 Irene|2.586095383707887| .1657173702279114| 9.11892251066654|86.16461779670949| 97.9547504515495|2.157534457561274|3.014656309854499|4.15886679822152|   59148|             0|      2161|          null|          null|6.30|     152|         null| 0.159|  15.028|null|.833|.388|null|     S|     S|1.5038562792750827|  1.709632913348941| 2.586095383707886|2.267913172767916E-9| 7.164699563011515E9|      522.4757735680331|         18.013080296428306|\n",
            "|       15 Eunomia|2.642681236348856|  .188009819278114|11.73888290628259|293.1943680285797| 97.5737391200976|2.145831214693244|3.139531258004467|4.29610981401533|   59084|             0|      2072|          null|          null|5.28|  255.33|         null|0.2094|   6.083|null|.839|.451|null|     S|     S| 5.117207070402712|  1.702983011127698|2.6426812363488548|2.342754531842524...|  7.08757818631868E9|      672.5884467282583|          7.491469902495635|\n",
            "|        16 Psyche|2.922733523744173| .1367578091341981|3.098484975647672|150.2888534094384|227.1229913524694|2.523026890353846|3.322440157134501| 4.9968007686579|   58859|             0|      2491|          null|          null|5.90|  253.16|         null|0.1203|   4.196|4.49|.729|.299|null|     X|     M|2.6230353210418054| 3.9640440060791997| 2.922733523744174|2.724855311495476E-9| 6.739468424513116E9|     177.53011198930727|          4.860744811130648|\n",
            "|        17 Thetis|2.469757907744916| .1339613711052189|5.588522066771778|125.5904663731616|135.4642566621479| 2.13890575212545|2.800610063364382|3.88141231290825|   58667|             0|      2341|          null|          null|7.76|   90.04|         null|0.1715|12.27048|null|.829|.438|null|    Sl|     S|2.1919671473268916| 2.3642972975211447|2.4697579077449157|2.116611697482726...| 7.331503750399212E9|      320.1987281417509|         14.168513494206728|\n",
            "|     18 Melpomene|2.295542683872335| .2180983128228575|10.12778247840432|150.4947314445103|228.0253566292369|1.794888697506925|2.796196670237746|3.47805352390418|   56982|             0|      4316|          null|          null|6.51|  140.57|         null|0.2225|  11.570|null|.854|.425|null|     S|     S| 2.626628570611347|  3.979793251214463|2.2955426838723354|1.896652089417076...| 7.604620870527269E9|      580.2791918391124|         14.797256726444148|\n",
            "|       19 Fortuna|2.441881300686634| .1578556535373146|1.573403950208651|211.2339848633247|182.4025008614149|2.056416532106198|2.827346069267071|3.81588278747719|   58474|             0|      2193|          null|          null|7.13|     200|         null| 0.037|  7.4432|null|.719|.324|null|    Ch|     G|3.6867285279728805| 3.1835242039034832|2.4418813006866342|2.080877137771921...|7.3732333504221115E9|      90.14940581616763|           8.83838979773974|\n",
            "|      20 Massalia|2.408515038486852| .1425955555754171|.7081886192801295|206.1947459787308|256.7979172645249|2.065071498462072|2.751958578511632|3.73793930981206|   58001|             0|      1847|          null|          null|6.50|  145.50|         null|0.2096|   8.098|null|.854|.463|null|     S|     S|  3.59877721764219|   4.48196916852995| 2.408515038486852|2.038373001836698...| 7.424130072516547E9|       40.5762189839485|          9.444784258652508|\n",
            "+-----------------+-----------------+------------------+-----------------+-----------------+-----------------+-----------------+-----------------+----------------+--------+--------------+----------+--------------+--------------+----+--------+-------------+------+--------+----+----+----+----+------+------+------------------+-------------------+------------------+--------------------+--------------------+-----------------------+---------------------------+\n",
            "only showing top 20 rows\n",
            "\n"
          ]
        }
      ]
    },
    {
      "cell_type": "code",
      "source": [
        "import matplotlib.pyplot as plt\n",
        "\n",
        "# Create a scatter plot of semi-major axis (a) vs orbital period (T)\n",
        "plt.scatter(df.select('a_m').collect(), df.select('T_s').collect(), marker='o', alpha=0.5)\n",
        "plt.xlabel('Semi-Major Axis (m)')\n",
        "plt.ylabel('Orbital Period (s)')\n",
        "plt.title('Semi-Major Axis vs Orbital Period')\n",
        "plt.grid()\n",
        "plt.show()\n",
        "\n"
      ],
      "metadata": {
        "colab": {
          "base_uri": "https://localhost:8080/",
          "height": 1000
        },
        "id": "MQmZKsCJ63ty",
        "outputId": "55eeeec9-c128-4bb1-dc05-1a7d42d88034"
      },
      "execution_count": null,
      "outputs": [
        {
          "output_type": "error",
          "ename": "AnalysisException",
          "evalue": "ignored",
          "traceback": [
            "\u001b[0;31m---------------------------------------------------------------------------\u001b[0m",
            "\u001b[0;31mAnalysisException\u001b[0m                         Traceback (most recent call last)",
            "\u001b[0;32m<ipython-input-14-997126189384>\u001b[0m in \u001b[0;36m<cell line: 4>\u001b[0;34m()\u001b[0m\n\u001b[1;32m      2\u001b[0m \u001b[0;34m\u001b[0m\u001b[0m\n\u001b[1;32m      3\u001b[0m \u001b[0;31m# Create a scatter plot of semi-major axis (a) vs orbital period (T)\u001b[0m\u001b[0;34m\u001b[0m\u001b[0;34m\u001b[0m\u001b[0m\n\u001b[0;32m----> 4\u001b[0;31m \u001b[0mplt\u001b[0m\u001b[0;34m.\u001b[0m\u001b[0mscatter\u001b[0m\u001b[0;34m(\u001b[0m\u001b[0mdf\u001b[0m\u001b[0;34m.\u001b[0m\u001b[0mselect\u001b[0m\u001b[0;34m(\u001b[0m\u001b[0;34m'a_m'\u001b[0m\u001b[0;34m)\u001b[0m\u001b[0;34m.\u001b[0m\u001b[0mcollect\u001b[0m\u001b[0;34m(\u001b[0m\u001b[0;34m)\u001b[0m\u001b[0;34m,\u001b[0m \u001b[0mdf\u001b[0m\u001b[0;34m.\u001b[0m\u001b[0mselect\u001b[0m\u001b[0;34m(\u001b[0m\u001b[0;34m'T_s'\u001b[0m\u001b[0;34m)\u001b[0m\u001b[0;34m.\u001b[0m\u001b[0mcollect\u001b[0m\u001b[0;34m(\u001b[0m\u001b[0;34m)\u001b[0m\u001b[0;34m,\u001b[0m \u001b[0mmarker\u001b[0m\u001b[0;34m=\u001b[0m\u001b[0;34m'o'\u001b[0m\u001b[0;34m,\u001b[0m \u001b[0malpha\u001b[0m\u001b[0;34m=\u001b[0m\u001b[0;36m0.5\u001b[0m\u001b[0;34m)\u001b[0m\u001b[0;34m\u001b[0m\u001b[0;34m\u001b[0m\u001b[0m\n\u001b[0m\u001b[1;32m      5\u001b[0m \u001b[0mplt\u001b[0m\u001b[0;34m.\u001b[0m\u001b[0mxlabel\u001b[0m\u001b[0;34m(\u001b[0m\u001b[0;34m'Semi-Major Axis (m)'\u001b[0m\u001b[0;34m)\u001b[0m\u001b[0;34m\u001b[0m\u001b[0;34m\u001b[0m\u001b[0m\n\u001b[1;32m      6\u001b[0m \u001b[0mplt\u001b[0m\u001b[0;34m.\u001b[0m\u001b[0mylabel\u001b[0m\u001b[0;34m(\u001b[0m\u001b[0;34m'Orbital Period (s)'\u001b[0m\u001b[0;34m)\u001b[0m\u001b[0;34m\u001b[0m\u001b[0;34m\u001b[0m\u001b[0m\n",
            "\u001b[0;32m/usr/local/lib/python3.10/dist-packages/pyspark/sql/dataframe.py\u001b[0m in \u001b[0;36mselect\u001b[0;34m(self, *cols)\u001b[0m\n\u001b[1;32m   3034\u001b[0m         \u001b[0;34m+\u001b[0m\u001b[0;34m-\u001b[0m\u001b[0;34m-\u001b[0m\u001b[0;34m-\u001b[0m\u001b[0;34m-\u001b[0m\u001b[0;34m-\u001b[0m\u001b[0;34m+\u001b[0m\u001b[0;34m-\u001b[0m\u001b[0;34m-\u001b[0m\u001b[0;34m-\u001b[0m\u001b[0;34m+\u001b[0m\u001b[0;34m\u001b[0m\u001b[0;34m\u001b[0m\u001b[0m\n\u001b[1;32m   3035\u001b[0m         \"\"\"\n\u001b[0;32m-> 3036\u001b[0;31m         \u001b[0mjdf\u001b[0m \u001b[0;34m=\u001b[0m \u001b[0mself\u001b[0m\u001b[0;34m.\u001b[0m\u001b[0m_jdf\u001b[0m\u001b[0;34m.\u001b[0m\u001b[0mselect\u001b[0m\u001b[0;34m(\u001b[0m\u001b[0mself\u001b[0m\u001b[0;34m.\u001b[0m\u001b[0m_jcols\u001b[0m\u001b[0;34m(\u001b[0m\u001b[0;34m*\u001b[0m\u001b[0mcols\u001b[0m\u001b[0;34m)\u001b[0m\u001b[0;34m)\u001b[0m\u001b[0;34m\u001b[0m\u001b[0;34m\u001b[0m\u001b[0m\n\u001b[0m\u001b[1;32m   3037\u001b[0m         \u001b[0;32mreturn\u001b[0m \u001b[0mDataFrame\u001b[0m\u001b[0;34m(\u001b[0m\u001b[0mjdf\u001b[0m\u001b[0;34m,\u001b[0m \u001b[0mself\u001b[0m\u001b[0;34m.\u001b[0m\u001b[0msparkSession\u001b[0m\u001b[0;34m)\u001b[0m\u001b[0;34m\u001b[0m\u001b[0;34m\u001b[0m\u001b[0m\n\u001b[1;32m   3038\u001b[0m \u001b[0;34m\u001b[0m\u001b[0m\n",
            "\u001b[0;32m/usr/local/lib/python3.10/dist-packages/py4j/java_gateway.py\u001b[0m in \u001b[0;36m__call__\u001b[0;34m(self, *args)\u001b[0m\n\u001b[1;32m   1320\u001b[0m \u001b[0;34m\u001b[0m\u001b[0m\n\u001b[1;32m   1321\u001b[0m         \u001b[0manswer\u001b[0m \u001b[0;34m=\u001b[0m \u001b[0mself\u001b[0m\u001b[0;34m.\u001b[0m\u001b[0mgateway_client\u001b[0m\u001b[0;34m.\u001b[0m\u001b[0msend_command\u001b[0m\u001b[0;34m(\u001b[0m\u001b[0mcommand\u001b[0m\u001b[0;34m)\u001b[0m\u001b[0;34m\u001b[0m\u001b[0;34m\u001b[0m\u001b[0m\n\u001b[0;32m-> 1322\u001b[0;31m         return_value = get_return_value(\n\u001b[0m\u001b[1;32m   1323\u001b[0m             answer, self.gateway_client, self.target_id, self.name)\n\u001b[1;32m   1324\u001b[0m \u001b[0;34m\u001b[0m\u001b[0m\n",
            "\u001b[0;32m/usr/local/lib/python3.10/dist-packages/pyspark/errors/exceptions/captured.py\u001b[0m in \u001b[0;36mdeco\u001b[0;34m(*a, **kw)\u001b[0m\n\u001b[1;32m    173\u001b[0m                 \u001b[0;31m# Hide where the exception came from that shows a non-Pythonic\u001b[0m\u001b[0;34m\u001b[0m\u001b[0;34m\u001b[0m\u001b[0m\n\u001b[1;32m    174\u001b[0m                 \u001b[0;31m# JVM exception message.\u001b[0m\u001b[0;34m\u001b[0m\u001b[0;34m\u001b[0m\u001b[0m\n\u001b[0;32m--> 175\u001b[0;31m                 \u001b[0;32mraise\u001b[0m \u001b[0mconverted\u001b[0m \u001b[0;32mfrom\u001b[0m \u001b[0;32mNone\u001b[0m\u001b[0;34m\u001b[0m\u001b[0;34m\u001b[0m\u001b[0m\n\u001b[0m\u001b[1;32m    176\u001b[0m             \u001b[0;32melse\u001b[0m\u001b[0;34m:\u001b[0m\u001b[0;34m\u001b[0m\u001b[0;34m\u001b[0m\u001b[0m\n\u001b[1;32m    177\u001b[0m                 \u001b[0;32mraise\u001b[0m\u001b[0;34m\u001b[0m\u001b[0;34m\u001b[0m\u001b[0m\n",
            "\u001b[0;31mAnalysisException\u001b[0m: [UNRESOLVED_COLUMN.WITH_SUGGESTION] A column or function parameter with name `T_s` cannot be resolved. Did you mean one of the following? [`a_m`, `BV`, `GM`, `H`, `IR`].;\n'Project ['T_s]\n+- Project [full_name#1450, a#1476, e#1502, i#1528, om#1554, w#1580, q#1606, ad#1632, per_y#1658, data_arc#1684, condition_code#1710, n_obs_used#1736, n_del_obs_used#1762, n_dop_obs_used#1788, H#1814, diameter#1840, extent#1866, albedo#1892, rot_per#1918, GM#1944, BV#1970, UB#1996, IR#2022, spec_B#2048, ... 8 more fields]\n   +- Project [full_name#1450, a#1476, e#1502, i#1528, om#1554, w#1580, q#1606, ad#1632, per_y#1658, data_arc#1684, condition_code#1710, n_obs_used#1736, n_del_obs_used#1762, n_dop_obs_used#1788, H#1814, diameter#1840, extent#1866, albedo#1892, rot_per#1918, GM#1944, BV#1970, UB#1996, IR#2022, spec_B#2048, ... 7 more fields]\n      +- Project [full_name#1450, a#1476, e#1502, i#1528, om#1554, w#1580, q#1606, ad#1632, per_y#1658, data_arc#1684, condition_code#1710, n_obs_used#1736, n_del_obs_used#1762, n_dop_obs_used#1788, H#1814, diameter#1840, extent#1866, albedo#1892, rot_per#1918, GM#1944, BV#1970, UB#1996, IR#2022, spec_B#2048, ... 6 more fields]\n         +- Project [full_name#1450, a#1476, e#1502, i#1528, om#1554, w#1580, q#1606, ad#1632, per_y#1658, data_arc#1684, condition_code#1710, n_obs_used#1736, n_del_obs_used#1762, n_dop_obs_used#1788, H#1814, diameter#1840, extent#1866, albedo#1892, rot_per#1918, GM#1944, BV#1970, UB#1996, IR#2022, spec_B#2048, ... 5 more fields]\n            +- Project [full_name#1450, a#1476, e#1502, i#1528, om#1554, w#1580, q#1606, ad#1632, per_y#1658, data_arc#1684, condition_code#1710, n_obs_used#1736, n_del_obs_used#1762, n_dop_obs_used#1788, H#1814, diameter#1840, extent#1866, albedo#1892, rot_per#1918, GM#1944, BV#1970, UB#1996, IR#2022, spec_B#2048, ... 4 more fields]\n               +- Project [full_name#1450, a#1476, e#1502, i#1528, om#1554, w#1580, q#1606, ad#1632, per_y#1658, data_arc#1684, condition_code#1710, n_obs_used#1736, n_del_obs_used#1762, n_dop_obs_used#1788, H#1814, diameter#1840, extent#1866, albedo#1892, rot_per#1918, GM#1944, BV#1970, UB#1996, IR#2022, spec_B#2048, ... 3 more fields]\n                  +- Project [full_name#1450, a#1476, e#1502, i#1528, om#1554, w#1580, q#1606, ad#1632, per_y#1658, data_arc#1684, condition_code#1710, n_obs_used#1736, n_del_obs_used#1762, n_dop_obs_used#1788, H#1814, diameter#1840, extent#1866, albedo#1892, rot_per#1918, GM#1944, BV#1970, UB#1996, IR#2022, spec_B#2048, ... 2 more fields]\n                     +- Project [full_name#1450, a#1476, e#1502, i#1528, om#1554, w#1580, q#1606, ad#1632, per_y#1658, data_arc#1684, condition_code#1710, n_obs_used#1736, n_del_obs_used#1762, n_dop_obs_used#1788, H#1814, diameter#1840, extent#1866, albedo#1892, rot_per#1918, GM#1944, BV#1970, UB#1996, IR#2022, spec_B#2048, spec_T#818 AS spec_T#2074]\n                        +- Project [full_name#1450, a#1476, e#1502, i#1528, om#1554, w#1580, q#1606, ad#1632, per_y#1658, data_arc#1684, condition_code#1710, n_obs_used#1736, n_del_obs_used#1762, n_dop_obs_used#1788, H#1814, diameter#1840, extent#1866, albedo#1892, rot_per#1918, GM#1944, BV#1970, UB#1996, IR#2022, spec_B#792 AS spec_B#2048, spec_T#818]\n                           +- Project [full_name#1450, a#1476, e#1502, i#1528, om#1554, w#1580, q#1606, ad#1632, per_y#1658, data_arc#1684, condition_code#1710, n_obs_used#1736, n_del_obs_used#1762, n_dop_obs_used#1788, H#1814, diameter#1840, extent#1866, albedo#1892, rot_per#1918, GM#1944, BV#1970, UB#1996, IR#766 AS IR#2022, spec_B#792, spec_T#818]\n                              +- Project [full_name#1450, a#1476, e#1502, i#1528, om#1554, w#1580, q#1606, ad#1632, per_y#1658, data_arc#1684, condition_code#1710, n_obs_used#1736, n_del_obs_used#1762, n_dop_obs_used#1788, H#1814, diameter#1840, extent#1866, albedo#1892, rot_per#1918, GM#1944, BV#1970, UB#740 AS UB#1996, IR#766, spec_B#792, spec_T#818]\n                                 +- Project [full_name#1450, a#1476, e#1502, i#1528, om#1554, w#1580, q#1606, ad#1632, per_y#1658, data_arc#1684, condition_code#1710, n_obs_used#1736, n_del_obs_used#1762, n_dop_obs_used#1788, H#1814, diameter#1840, extent#1866, albedo#1892, rot_per#1918, GM#1944, BV#714 AS BV#1970, UB#740, IR#766, spec_B#792, spec_T#818]\n                                    +- Project [full_name#1450, a#1476, e#1502, i#1528, om#1554, w#1580, q#1606, ad#1632, per_y#1658, data_arc#1684, condition_code#1710, n_obs_used#1736, n_del_obs_used#1762, n_dop_obs_used#1788, H#1814, diameter#1840, extent#1866, albedo#1892, rot_per#1918, GM#688 AS GM#1944, BV#714, UB#740, IR#766, spec_B#792, spec_T#818]\n                                       +- Project [full_name#1450, a#1476, e#1502, i#1528, om#1554, w#1580, q#1606, ad#1632, per_y#1658, data_arc#1684, condition_code#1710, n_obs_used#1736, n_del_obs_used#1762, n_dop_obs_used#1788, H#1814, diameter#1840, extent#1866, albedo#1892, rot_per#662 AS rot_per#1918, GM#688, BV#714, UB#740, IR#766, spec_B#792, spec_T#818]\n                                          +- Project [full_name#1450, a#1476, e#1502, i#1528, om#1554, w#1580, q#1606, ad#1632, per_y#1658, data_arc#1684, condition_code#1710, n_obs_used#1736, n_del_obs_used#1762, n_dop_obs_used#1788, H#1814, diameter#1840, extent#1866, albedo#636 AS albedo#1892, rot_per#662, GM#688, BV#714, UB#740, IR#766, spec_B#792, spec_T#818]\n                                             +- Project [full_name#1450, a#1476, e#1502, i#1528, om#1554, w#1580, q#1606, ad#1632, per_y#1658, data_arc#1684, condition_code#1710, n_obs_used#1736, n_del_obs_used#1762, n_dop_obs_used#1788, H#1814, diameter#1840, extent#610 AS extent#1866, albedo#636, rot_per#662, GM#688, BV#714, UB#740, IR#766, spec_B#792, spec_T#818]\n                                                +- Project [full_name#1450, a#1476, e#1502, i#1528, om#1554, w#1580, q#1606, ad#1632, per_y#1658, data_arc#1684, condition_code#1710, n_obs_used#1736, n_del_obs_used#1762, n_dop_obs_used#1788, H#1814, diameter#584 AS diameter#1840, extent#610, albedo#636, rot_per#662, GM#688, BV#714, UB#740, IR#766, spec_B#792, spec_T#818]\n                                                   +- Project [full_name#1450, a#1476, e#1502, i#1528, om#1554, w#1580, q#1606, ad#1632, per_y#1658, data_arc#1684, condition_code#1710, n_obs_used#1736, n_del_obs_used#1762, n_dop_obs_used#1788, H#558 AS H#1814, diameter#584, extent#610, albedo#636, rot_per#662, GM#688, BV#714, UB#740, IR#766, spec_B#792, spec_T#818]\n                                                      +- Project [full_name#1450, a#1476, e#1502, i#1528, om#1554, w#1580, q#1606, ad#1632, per_y#1658, data_arc#1684, condition_code#1710, n_obs_used#1736, n_del_obs_used#1762, n_dop_obs_used#532 AS n_dop_obs_used#1788, H#558, diameter#584, extent#610, albedo#636, rot_per#662, GM#688, BV#714, UB#740, IR#766, spec_B#792, spec_T#818]\n                                                         +- Project [full_name#1450, a#1476, e#1502, i#1528, om#1554, w#1580, q#1606, ad#1632, per_y#1658, data_arc#1684, condition_code#1710, n_obs_used#1736, n_del_obs_used#506 AS n_del_obs_used#1762, n_dop_obs_used#532, H#558, diameter#584, extent#610, albedo#636, rot_per#662, GM#688, BV#714, UB#740, IR#766, spec_B#792, spec_T#818]\n                                                            +- Project [full_name#1450, a#1476, e#1502, i#1528, om#1554, w#1580, q#1606, ad#1632, per_y#1658, data_arc#1684, condition_code#1710, n_obs_used#480 AS n_obs_used#1736, n_del_obs_used#506, n_dop_obs_used#532, H#558, diameter#584, extent#610, albedo#636, rot_per#662, GM#688, BV#714, UB#740, IR#766, spec_B#792, spec_T#818]\n                                                               +- Project [full_name#1450, a#1476, e#1502, i#1528, om#1554, w#1580, q#1606, ad#1632, per_y#1658, data_arc#1684, condition_code#454 AS condition_code#1710, n_obs_used#480, n_del_obs_used#506, n_dop_obs_used#532, H#558, diameter#584, extent#610, albedo#636, rot_per#662, GM#688, BV#714, UB#740, IR#766, spec_B#792, spec_T#818]\n                                                                  +- Project [full_name#1450, a#1476, e#1502, i#1528, om#1554, w#1580, q#1606, ad#1632, per_y#1658, data_arc#428 AS data_arc#1684, condition_code#454, n_obs_used#480, n_del_obs_used#506, n_dop_obs_used#532, H#558, diameter#584, extent#610, albedo#636, rot_per#662, GM#688, BV#714, UB#740, IR#766, spec_B#792, spec_T#818]\n                                                                     +- Project [full_name#1450, a#1476, e#1502, i#1528, om#1554, w#1580, q#1606, ad#1632, per_y#402 AS per_y#1658, data_arc#428, condition_code#454, n_obs_used#480, n_del_obs_used#506, n_dop_obs_used#532, H#558, diameter#584, extent#610, albedo#636, rot_per#662, GM#688, BV#714, UB#740, IR#766, spec_B#792, spec_T#818]\n                                                                        +- Project [full_name#1450, a#1476, e#1502, i#1528, om#1554, w#1580, q#1606, ad#376 AS ad#1632, per_y#402, data_arc#428, condition_code#454, n_obs_used#480, n_del_obs_used#506, n_dop_obs_used#532, H#558, diameter#584, extent#610, albedo#636, rot_per#662, GM#688, BV#714, UB#740, IR#766, spec_B#792, spec_T#818]\n                                                                           +- Project [full_name#1450, a#1476, e#1502, i#1528, om#1554, w#1580, q#350 AS q#1606, ad#376, per_y#402, data_arc#428, condition_code#454, n_obs_used#480, n_del_obs_used#506, n_dop_obs_used#532, H#558, diameter#584, extent#610, albedo#636, rot_per#662, GM#688, BV#714, UB#740, IR#766, spec_B#792, spec_T#818]\n                                                                              +- Project [full_name#1450, a#1476, e#1502, i#1528, om#1554, w#324 AS w#1580, q#350, ad#376, per_y#402, data_arc#428, condition_code#454, n_obs_used#480, n_del_obs_used#506, n_dop_obs_used#532, H#558, diameter#584, extent#610, albedo#636, rot_per#662, GM#688, BV#714, UB#740, IR#766, spec_B#792, spec_T#818]\n                                                                                 +- Project [full_name#1450, a#1476, e#1502, i#1528, om#298 AS om#1554, w#324, q#350, ad#376, per_y#402, data_arc#428, condition_code#454, n_obs_used#480, n_del_obs_used#506, n_dop_obs_used#532, H#558, diameter#584, extent#610, albedo#636, rot_per#662, GM#688, BV#714, UB#740, IR#766, spec_B#792, spec_T#818]\n                                                                                    +- Project [full_name#1450, a#1476, e#1502, i#272 AS i#1528, om#298, w#324, q#350, ad#376, per_y#402, data_arc#428, condition_code#454, n_obs_used#480, n_del_obs_used#506, n_dop_obs_used#532, H#558, diameter#584, extent#610, albedo#636, rot_per#662, GM#688, BV#714, UB#740, IR#766, spec_B#792, spec_T#818]\n                                                                                       +- Project [full_name#1450, a#1476, e#246 AS e#1502, i#272, om#298, w#324, q#350, ad#376, per_y#402, data_arc#428, condition_code#454, n_obs_used#480, n_del_obs_used#506, n_dop_obs_used#532, H#558, diameter#584, extent#610, albedo#636, rot_per#662, GM#688, BV#714, UB#740, IR#766, spec_B#792, spec_T#818]\n                                                                                          +- Project [full_name#1450, a#220 AS a#1476, e#246, i#272, om#298, w#324, q#350, ad#376, per_y#402, data_arc#428, condition_code#454, n_obs_used#480, n_del_obs_used#506, n_dop_obs_used#532, H#558, diameter#584, extent#610, albedo#636, rot_per#662, GM#688, BV#714, UB#740, IR#766, spec_B#792, spec_T#818]\n                                                                                             +- Project [full_name#194 AS full_name#1450, a#220, e#246, i#272, om#298, w#324, q#350, ad#376, per_y#402, data_arc#428, condition_code#454, n_obs_used#480, n_del_obs_used#506, n_dop_obs_used#532, H#558, diameter#584, extent#610, albedo#636, rot_per#662, GM#688, BV#714, UB#740, IR#766, spec_B#792, spec_T#818]\n                                                                                                +- Project [full_name#194, a#220, e#246, i#272, om#298, w#324, q#350, ad#376, per_y#402, data_arc#428, condition_code#454, n_obs_used#480, n_del_obs_used#506, n_dop_obs_used#532, H#558, diameter#584, extent#610, albedo#636, rot_per#662, GM#688, BV#714, UB#740, IR#766, spec_B#792, spec_T#818]\n                                                                                                   +- Filter NOT (row_index#971 = 1)\n                                                                                                      +- Project [full_name#194, a#220, e#246, i#272, om#298, w#324, q#350, ad#376, per_y#402, data_arc#428, condition_code#454, n_obs_used#480, n_del_obs_used#506, n_dop_obs_used#532, H#558, diameter#584, extent#610, albedo#636, rot_per#662, GM#688, BV#714, UB#740, IR#766, spec_B#792, ... 2 more fields]\n                                                                                                         +- Project [full_name#194, a#220, e#246, i#272, om#298, w#324, q#350, ad#376, per_y#402, data_arc#428, condition_code#454, n_obs_used#480, n_del_obs_used#506, n_dop_obs_used#532, H#558, diameter#584, extent#610, albedo#636, rot_per#662, GM#688, BV#714, UB#740, IR#766, spec_B#792, ... 4 more fields]\n                                                                                                            +- Window [row_number() windowspecdefinition(_w0#972L ASC NULLS FIRST, specifiedwindowframe(RowFrame, unboundedpreceding$(), currentrow$())) AS row_index#971], [_w0#972L ASC NULLS FIRST]\n                                                                                                               +- Project [full_name#194, a#220, e#246, i#272, om#298, w#324, q#350, ad#376, per_y#402, data_arc#428, condition_code#454, n_obs_used#480, n_del_obs_used#506, n_dop_obs_used#532, H#558, diameter#584, extent#610, albedo#636, rot_per#662, GM#688, BV#714, UB#740, IR#766, spec_B#792, ... 2 more fields]\n                                                                                                                  +- Project [full_name#194, a#220, e#246, i#272, om#298, w#324, q#350, ad#376, per_y#402, data_arc#428, condition_code#454, n_obs_used#480, n_del_obs_used#506, n_dop_obs_used#532, H#558, diameter#584, extent#610, albedo#636, rot_per#662, GM#688, BV#714, UB#740, IR#766, spec_B#792, _c24#41 AS spec_T#818]\n                                                                                                                     +- Project [full_name#194, a#220, e#246, i#272, om#298, w#324, q#350, ad#376, per_y#402, data_arc#428, condition_code#454, n_obs_used#480, n_del_obs_used#506, n_dop_obs_used#532, H#558, diameter#584, extent#610, albedo#636, rot_per#662, GM#688, BV#714, UB#740, IR#766, _c23#40 AS spec_B#792, _c24#41]\n                                                                                                                        +- Project [full_name#194, a#220, e#246, i#272, om#298, w#324, q#350, ad#376, per_y#402, data_arc#428, condition_code#454, n_obs_used#480, n_del_obs_used#506, n_dop_obs_used#532, H#558, diameter#584, extent#610, albedo#636, rot_per#662, GM#688, BV#714, UB#740, _c22#39 AS IR#766, _c23#40, _c24#41]\n                                                                                                                           +- Project [full_name#194, a#220, e#246, i#272, om#298, w#324, q#350, ad#376, per_y#402, data_arc#428, condition_code#454, n_obs_used#480, n_del_obs_used#506, n_dop_obs_used#532, H#558, diameter#584, extent#610, albedo#636, rot_per#662, GM#688, BV#714, _c21#38 AS UB#740, _c22#39, _c23#40, _c24#41]\n                                                                                                                              +- Project [full_name#194, a#220, e#246, i#272, om#298, w#324, q#350, ad#376, per_y#402, data_arc#428, condition_code#454, n_obs_used#480, n_del_obs_used#506, n_dop_obs_used#532, H#558, diameter#584, extent#610, albedo#636, rot_per#662, GM#688, _c20#37 AS BV#714, _c21#38, _c22#39, _c23#40, _c24#41]\n                                                                                                                                 +- Project [full_name#194, a#220, e#246, i#272, om#298, w#324, q#350, ad#376, per_y#402, data_arc#428, condition_code#454, n_obs_used#480, n_del_obs_used#506, n_dop_obs_used#532, H#558, diameter#584, extent#610, albedo#636, rot_per#662, _c19#36 AS GM#688, _c20#37, _c21#38, _c22#39, _c23#40, _c24#41]\n                                                                                                                                    +- Project [full_name#194, a#220, e#246, i#272, om#298, w#324, q#350, ad#376, per_y#402, data_arc#428, condition_code#454, n_obs_used#480, n_del_obs_used#506, n_dop_obs_used#532, H#558, diameter#584, extent#610, albedo#636, _c18#35 AS rot_per#662, _c19#36, _c20#37, _c21#38, _c22#39, _c23#40, _c24#41]\n                                                                                                                                       +- Project [full_name#194, a#220, e#246, i#272, om#298, w#324, q#350, ad#376, per_y#402, data_arc#428, condition_code#454, n_obs_used#480, n_del_obs_used#506, n_dop_obs_used#532, H#558, diameter#584, extent#610, _c17#34 AS albedo#636, _c18#35, _c19#36, _c20#37, _c21#38, _c22#39, _c23#40, _c24#41]\n                                                                                                                                          +- Project [full_name#194, a#220, e#246, i#272, om#298, w#324, q#350, ad#376, per_y#402, data_arc#428, condition_code#454, n_obs_used#480, n_del_obs_used#506, n_dop_obs_used#532, H#558, diameter#584, _c16#33 AS extent#610, _c17#34, _c18#35, _c19#36, _c20#37, _c21#38, _c22#39, _c23#40, _c24#41]\n                                                                                                                                             +- Project [full_name#194, a#220, e#246, i#272, om#298, w#324, q#350, ad#376, per_y#402, data_arc#428, condition_code#454, n_obs_used#480, n_del_obs_used#506, n_dop_obs_used#532, H#558, _c15#32 AS diameter#584, _c16#33, _c17#34, _c18#35, _c19#36, _c20#37, _c21#38, _c22#39, _c23#40, _c24#41]\n                                                                                                                                                +- Project [full_name#194, a#220, e#246, i#272, om#298, w#324, q#350, ad#376, per_y#402, data_arc#428, condition_code#454, n_obs_used#480, n_del_obs_used#506, n_dop_obs_used#532, _c14#31 AS H#558, _c15#32, _c16#33, _c17#34, _c18#35, _c19#36, _c20#37, _c21#38, _c22#39, _c23#40, _c24#41]\n                                                                                                                                                   +- Project [full_name#194, a#220, e#246, i#272, om#298, w#324, q#350, ad#376, per_y#402, data_arc#428, condition_code#454, n_obs_used#480, n_del_obs_used#506, _c13#30 AS n_dop_obs_used#532, _c14#31, _c15#32, _c16#33, _c17#34, _c18#35, _c19#36, _c20#37, _c21#38, _c22#39, _c23#40, _c24#41]\n                                                                                                                                                      +- Project [full_name#194, a#220, e#246, i#272, om#298, w#324, q#350, ad#376, per_y#402, data_arc#428, condition_code#454, n_obs_used#480, _c12#29 AS n_del_obs_used#506, _c13#30, _c14#31, _c15#32, _c16#33, _c17#34, _c18#35, _c19#36, _c20#37, _c21#38, _c22#39, _c23#40, _c24#41]\n                                                                                                                                                         +- Project [full_name#194, a#220, e#246, i#272, om#298, w#324, q#350, ad#376, per_y#402, data_arc#428, condition_code#454, _c11#28 AS n_obs_used#480, _c12#29, _c13#30, _c14#31, _c15#32, _c16#33, _c17#34, _c18#35, _c19#36, _c20#37, _c21#38, _c22#39, _c23#40, _c24#41]\n                                                                                                                                                            +- Project [full_name#194, a#220, e#246, i#272, om#298, w#324, q#350, ad#376, per_y#402, data_arc#428, _c10#27 AS condition_code#454, _c11#28, _c12#29, _c13#30, _c14#31, _c15#32, _c16#33, _c17#34, _c18#35, _c19#36, _c20#37, _c21#38, _c22#39, _c23#40, _c24#41]\n                                                                                                                                                               +- Project [full_name#194, a#220, e#246, i#272, om#298, w#324, q#350, ad#376, per_y#402, _c9#26 AS data_arc#428, _c10#27, _c11#28, _c12#29, _c13#30, _c14#31, _c15#32, _c16#33, _c17#34, _c18#35, _c19#36, _c20#37, _c21#38, _c22#39, _c23#40, _c24#41]\n                                                                                                                                                                  +- Project [full_name#194, a#220, e#246, i#272, om#298, w#324, q#350, ad#376, _c8#25 AS per_y#402, _c9#26, _c10#27, _c11#28, _c12#29, _c13#30, _c14#31, _c15#32, _c16#33, _c17#34, _c18#35, _c19#36, _c20#37, _c21#38, _c22#39, _c23#40, _c24#41]\n                                                                                                                                                                     +- Project [full_name#194, a#220, e#246, i#272, om#298, w#324, q#350, _c7#24 AS ad#376, _c8#25, _c9#26, _c10#27, _c11#28, _c12#29, _c13#30, _c14#31, _c15#32, _c16#33, _c17#34, _c18#35, _c19#36, _c20#37, _c21#38, _c22#39, _c23#40, _c24#41]\n                                                                                                                                                                        +- Project [full_name#194, a#220, e#246, i#272, om#298, w#324, _c6#23 AS q#350, _c7#24, _c8#25, _c9#26, _c10#27, _c11#28, _c12#29, _c13#30, _c14#31, _c15#32, _c16#33, _c17#34, _c18#35, _c19#36, _c20#37, _c21#38, _c22#39, _c23#40, _c24#41]\n                                                                                                                                                                           +- Project [full_name#194, a#220, e#246, i#272, om#298, _c5#22 AS w#324, _c6#23, _c7#24, _c8#25, _c9#26, _c10#27, _c11#28, _c12#29, _c13#30, _c14#31, _c15#32, _c16#33, _c17#34, _c18#35, _c19#36, _c20#37, _c21#38, _c22#39, _c23#40, _c24#41]\n                                                                                                                                                                              +- Project [full_name#194, a#220, e#246, i#272, _c4#21 AS om#298, _c5#22, _c6#23, _c7#24, _c8#25, _c9#26, _c10#27, _c11#28, _c12#29, _c13#30, _c14#31, _c15#32, _c16#33, _c17#34, _c18#35, _c19#36, _c20#37, _c21#38, _c22#39, _c23#40, _c24#41]\n                                                                                                                                                                                 +- Project [full_name#194, a#220, e#246, _c3#20 AS i#272, _c4#21, _c5#22, _c6#23, _c7#24, _c8#25, _c9#26, _c10#27, _c11#28, _c12#29, _c13#30, _c14#31, _c15#32, _c16#33, _c17#34, _c18#35, _c19#36, _c20#37, _c21#38, _c22#39, _c23#40, _c24#41]\n                                                                                                                                                                                    +- Project [full_name#194, a#220, _c2#19 AS e#246, _c3#20, _c4#21, _c5#22, _c6#23, _c7#24, _c8#25, _c9#26, _c10#27, _c11#28, _c12#29, _c13#30, _c14#31, _c15#32, _c16#33, _c17#34, _c18#35, _c19#36, _c20#37, _c21#38, _c22#39, _c23#40, _c24#41]\n                                                                                                                                                                                       +- Project [full_name#194, _c1#18 AS a#220, _c2#19, _c3#20, _c4#21, _c5#22, _c6#23, _c7#24, _c8#25, _c9#26, _c10#27, _c11#28, _c12#29, _c13#30, _c14#31, _c15#32, _c16#33, _c17#34, _c18#35, _c19#36, _c20#37, _c21#38, _c22#39, _c23#40, _c24#41]\n                                                                                                                                                                                          +- Project [_c0#17 AS full_name#194, _c1#18, _c2#19, _c3#20, _c4#21, _c5#22, _c6#23, _c7#24, _c8#25, _c9#26, _c10#27, _c11#28, _c12#29, _c13#30, _c14#31, _c15#32, _c16#33, _c17#34, _c18#35, _c19#36, _c20#37, _c21#38, _c22#39, _c23#40, _c24#41]\n                                                                                                                                                                                             +- Relation [_c0#17,_c1#18,_c2#19,_c3#20,_c4#21,_c5#22,_c6#23,_c7#24,_c8#25,_c9#26,_c10#27,_c11#28,_c12#29,_c13#30,_c14#31,_c15#32,_c16#33,_c17#34,_c18#35,_c19#36,_c20#37,_c21#38,_c22#39,_c23#40,_c24#41] csv\n"
          ]
        }
      ]
    },
    {
      "cell_type": "markdown",
      "source": [
        "\n",
        "The graph you sent me shows the relationship between the semi-major axis and orbital period of asteroids. The semi-major axis is the average distance of an asteroid from the Sun, and the orbital period is the time it takes the asteroid to complete one orbit around the Sun.\n",
        "\n",
        "The graph shows that there is a positive correlation between the semi-major axis and orbital period. This means that asteroids with larger semi-major axes also have longer orbital periods. This is consistent with Kepler's third law, which states that the square of the orbital period is proportional to the cube of the semi-major axis.\n",
        "\n",
        "The features of the graph include:\n",
        "\n",
        "* Semi-major axis: The average distance of an asteroid from the Sun.\n",
        "Orbital period: The time it takes an asteroid to complete one orbit around the Sun.\n",
        "* Number of asteroids: The number of asteroids in the dataset.\n",
        "\n",
        "\n",
        "The interventions that we can do to reduce the risk of asteroid impact include:\n",
        "\n",
        "* Tracking asteroids: We need to track asteroids more closely so that we can identify potential hazards early on.\n",
        "* Deflecting asteroids: We can deflect asteroids away from Earth using a variety of methods, such as kinetic impact, gravity tractor, or nuclear explosion.\n",
        "Destroying asteroids: We can destroy asteroids by using a nuclear explosion or a large laser."
      ],
      "metadata": {
        "id": "MZyoUrEh-OTz"
      }
    },
    {
      "cell_type": "code",
      "source": [
        "import matplotlib.pyplot as plt\n",
        "import numpy as np\n",
        "\n",
        "# Define a function to calculate the position of the asteroid at a given time\n",
        "def calculate_position(a, e, om, w, M, t):\n",
        "    n = np.sqrt(G * M_sun / a**3)  # Mean motion\n",
        "    E = M + e * np.sin(M)\n",
        "    x = a * (np.cos(E) - e)\n",
        "    y = a * np.sqrt(1 - e**2) * np.sin(E)\n",
        "    r = np.sqrt(x**2 + y**2)\n",
        "    v = np.arctan2(y, x)\n",
        "    x_prime = r * (np.cos(om) * np.cos(v + w) - np.sin(om) * np.sin(v + w) * np.cos(i))\n",
        "    y_prime = r * (np.sin(om) * np.cos(v + w) + np.cos(om) * np.sin(v + w) * np.cos(i))\n",
        "    z_prime = r * np.sin(v + w) * np.sin(i)\n",
        "    return x_prime, y_prime, z_prime\n",
        "\n",
        "# Select an asteroid by index (replace 'index' with the desired index)\n",
        "index = 0\n",
        "asteroid = df.select('a', 'e', 'om_rad', 'w_rad', 'i', 'orbital_period_s').collect()[index]\n",
        "\n",
        "# Calculate the positions over a time range\n",
        "time_range = np.linspace(0, asteroid['orbital_period_s'], 1000)\n",
        "positions = [calculate_position(asteroid['a_m'], asteroid['e'], asteroid['om_rad'], asteroid['w_rad'], G * M_sun, t) for t in time_range]\n",
        "\n",
        "# Extract x, y, and z coordinates\n",
        "x_coords = [position[0] for position in positions]\n",
        "y_coords = [position[1] for position in positions]\n",
        "\n",
        "# Plot the asteroid's orbit\n",
        "plt.figure(figsize=(8, 8))\n",
        "plt.plot(x_coords, y_coords, label='Orbit')\n",
        "plt.scatter(0, 0, color='red', marker='o', label='Sun')\n",
        "plt.xlabel('X (m)')\n",
        "plt.ylabel('Y (m)')\n",
        "plt.title('Asteroid Orbit')\n",
        "plt.legend()\n",
        "plt.grid()\n",
        "plt.show()\n"
      ],
      "metadata": {
        "id": "wB0hS0r59eXO",
        "colab": {
          "base_uri": "https://localhost:8080/",
          "height": 442
        },
        "outputId": "ed8179bc-1b21-4040-e1f7-9e718c9cecd1"
      },
      "execution_count": null,
      "outputs": [
        {
          "output_type": "error",
          "ename": "ValueError",
          "evalue": "ignored",
          "traceback": [
            "\u001b[0;31m---------------------------------------------------------------------------\u001b[0m",
            "\u001b[0;31mValueError\u001b[0m                                Traceback (most recent call last)",
            "\u001b[0;32m/usr/local/lib/python3.10/dist-packages/pyspark/sql/types.py\u001b[0m in \u001b[0;36m__getitem__\u001b[0;34m(self, item)\u001b[0m\n\u001b[1;32m   2164\u001b[0m             \u001b[0;31m# but this will not be used in normal cases\u001b[0m\u001b[0;34m\u001b[0m\u001b[0;34m\u001b[0m\u001b[0m\n\u001b[0;32m-> 2165\u001b[0;31m             \u001b[0midx\u001b[0m \u001b[0;34m=\u001b[0m \u001b[0mself\u001b[0m\u001b[0;34m.\u001b[0m\u001b[0m__fields__\u001b[0m\u001b[0;34m.\u001b[0m\u001b[0mindex\u001b[0m\u001b[0;34m(\u001b[0m\u001b[0mitem\u001b[0m\u001b[0;34m)\u001b[0m\u001b[0;34m\u001b[0m\u001b[0;34m\u001b[0m\u001b[0m\n\u001b[0m\u001b[1;32m   2166\u001b[0m             \u001b[0;32mreturn\u001b[0m \u001b[0msuper\u001b[0m\u001b[0;34m(\u001b[0m\u001b[0mRow\u001b[0m\u001b[0;34m,\u001b[0m \u001b[0mself\u001b[0m\u001b[0;34m)\u001b[0m\u001b[0;34m.\u001b[0m\u001b[0m__getitem__\u001b[0m\u001b[0;34m(\u001b[0m\u001b[0midx\u001b[0m\u001b[0;34m)\u001b[0m\u001b[0;34m\u001b[0m\u001b[0;34m\u001b[0m\u001b[0m\n",
            "\u001b[0;31mValueError\u001b[0m: 'a_m' is not in list",
            "\nDuring handling of the above exception, another exception occurred:\n",
            "\u001b[0;31mValueError\u001b[0m                                Traceback (most recent call last)",
            "\u001b[0;32m<ipython-input-15-d5be147be44f>\u001b[0m in \u001b[0;36m<cell line: 23>\u001b[0;34m()\u001b[0m\n\u001b[1;32m     21\u001b[0m \u001b[0;31m# Calculate the positions over a time range\u001b[0m\u001b[0;34m\u001b[0m\u001b[0;34m\u001b[0m\u001b[0m\n\u001b[1;32m     22\u001b[0m \u001b[0mtime_range\u001b[0m \u001b[0;34m=\u001b[0m \u001b[0mnp\u001b[0m\u001b[0;34m.\u001b[0m\u001b[0mlinspace\u001b[0m\u001b[0;34m(\u001b[0m\u001b[0;36m0\u001b[0m\u001b[0;34m,\u001b[0m \u001b[0masteroid\u001b[0m\u001b[0;34m[\u001b[0m\u001b[0;34m'orbital_period_s'\u001b[0m\u001b[0;34m]\u001b[0m\u001b[0;34m,\u001b[0m \u001b[0;36m1000\u001b[0m\u001b[0;34m)\u001b[0m\u001b[0;34m\u001b[0m\u001b[0;34m\u001b[0m\u001b[0m\n\u001b[0;32m---> 23\u001b[0;31m \u001b[0mpositions\u001b[0m \u001b[0;34m=\u001b[0m \u001b[0;34m[\u001b[0m\u001b[0mcalculate_position\u001b[0m\u001b[0;34m(\u001b[0m\u001b[0masteroid\u001b[0m\u001b[0;34m[\u001b[0m\u001b[0;34m'a_m'\u001b[0m\u001b[0;34m]\u001b[0m\u001b[0;34m,\u001b[0m \u001b[0masteroid\u001b[0m\u001b[0;34m[\u001b[0m\u001b[0;34m'e'\u001b[0m\u001b[0;34m]\u001b[0m\u001b[0;34m,\u001b[0m \u001b[0masteroid\u001b[0m\u001b[0;34m[\u001b[0m\u001b[0;34m'om_rad'\u001b[0m\u001b[0;34m]\u001b[0m\u001b[0;34m,\u001b[0m \u001b[0masteroid\u001b[0m\u001b[0;34m[\u001b[0m\u001b[0;34m'w_rad'\u001b[0m\u001b[0;34m]\u001b[0m\u001b[0;34m,\u001b[0m \u001b[0mG\u001b[0m \u001b[0;34m*\u001b[0m \u001b[0mM_sun\u001b[0m\u001b[0;34m,\u001b[0m \u001b[0mt\u001b[0m\u001b[0;34m)\u001b[0m \u001b[0;32mfor\u001b[0m \u001b[0mt\u001b[0m \u001b[0;32min\u001b[0m \u001b[0mtime_range\u001b[0m\u001b[0;34m]\u001b[0m\u001b[0;34m\u001b[0m\u001b[0;34m\u001b[0m\u001b[0m\n\u001b[0m\u001b[1;32m     24\u001b[0m \u001b[0;34m\u001b[0m\u001b[0m\n\u001b[1;32m     25\u001b[0m \u001b[0;31m# Extract x, y, and z coordinates\u001b[0m\u001b[0;34m\u001b[0m\u001b[0;34m\u001b[0m\u001b[0m\n",
            "\u001b[0;32m<ipython-input-15-d5be147be44f>\u001b[0m in \u001b[0;36m<listcomp>\u001b[0;34m(.0)\u001b[0m\n\u001b[1;32m     21\u001b[0m \u001b[0;31m# Calculate the positions over a time range\u001b[0m\u001b[0;34m\u001b[0m\u001b[0;34m\u001b[0m\u001b[0m\n\u001b[1;32m     22\u001b[0m \u001b[0mtime_range\u001b[0m \u001b[0;34m=\u001b[0m \u001b[0mnp\u001b[0m\u001b[0;34m.\u001b[0m\u001b[0mlinspace\u001b[0m\u001b[0;34m(\u001b[0m\u001b[0;36m0\u001b[0m\u001b[0;34m,\u001b[0m \u001b[0masteroid\u001b[0m\u001b[0;34m[\u001b[0m\u001b[0;34m'orbital_period_s'\u001b[0m\u001b[0;34m]\u001b[0m\u001b[0;34m,\u001b[0m \u001b[0;36m1000\u001b[0m\u001b[0;34m)\u001b[0m\u001b[0;34m\u001b[0m\u001b[0;34m\u001b[0m\u001b[0m\n\u001b[0;32m---> 23\u001b[0;31m \u001b[0mpositions\u001b[0m \u001b[0;34m=\u001b[0m \u001b[0;34m[\u001b[0m\u001b[0mcalculate_position\u001b[0m\u001b[0;34m(\u001b[0m\u001b[0masteroid\u001b[0m\u001b[0;34m[\u001b[0m\u001b[0;34m'a_m'\u001b[0m\u001b[0;34m]\u001b[0m\u001b[0;34m,\u001b[0m \u001b[0masteroid\u001b[0m\u001b[0;34m[\u001b[0m\u001b[0;34m'e'\u001b[0m\u001b[0;34m]\u001b[0m\u001b[0;34m,\u001b[0m \u001b[0masteroid\u001b[0m\u001b[0;34m[\u001b[0m\u001b[0;34m'om_rad'\u001b[0m\u001b[0;34m]\u001b[0m\u001b[0;34m,\u001b[0m \u001b[0masteroid\u001b[0m\u001b[0;34m[\u001b[0m\u001b[0;34m'w_rad'\u001b[0m\u001b[0;34m]\u001b[0m\u001b[0;34m,\u001b[0m \u001b[0mG\u001b[0m \u001b[0;34m*\u001b[0m \u001b[0mM_sun\u001b[0m\u001b[0;34m,\u001b[0m \u001b[0mt\u001b[0m\u001b[0;34m)\u001b[0m \u001b[0;32mfor\u001b[0m \u001b[0mt\u001b[0m \u001b[0;32min\u001b[0m \u001b[0mtime_range\u001b[0m\u001b[0;34m]\u001b[0m\u001b[0;34m\u001b[0m\u001b[0;34m\u001b[0m\u001b[0m\n\u001b[0m\u001b[1;32m     24\u001b[0m \u001b[0;34m\u001b[0m\u001b[0m\n\u001b[1;32m     25\u001b[0m \u001b[0;31m# Extract x, y, and z coordinates\u001b[0m\u001b[0;34m\u001b[0m\u001b[0;34m\u001b[0m\u001b[0m\n",
            "\u001b[0;32m/usr/local/lib/python3.10/dist-packages/pyspark/sql/types.py\u001b[0m in \u001b[0;36m__getitem__\u001b[0;34m(self, item)\u001b[0m\n\u001b[1;32m   2168\u001b[0m             \u001b[0;32mraise\u001b[0m \u001b[0mKeyError\u001b[0m\u001b[0;34m(\u001b[0m\u001b[0mitem\u001b[0m\u001b[0;34m)\u001b[0m\u001b[0;34m\u001b[0m\u001b[0;34m\u001b[0m\u001b[0m\n\u001b[1;32m   2169\u001b[0m         \u001b[0;32mexcept\u001b[0m \u001b[0mValueError\u001b[0m\u001b[0;34m:\u001b[0m\u001b[0;34m\u001b[0m\u001b[0;34m\u001b[0m\u001b[0m\n\u001b[0;32m-> 2170\u001b[0;31m             \u001b[0;32mraise\u001b[0m \u001b[0mValueError\u001b[0m\u001b[0;34m(\u001b[0m\u001b[0mitem\u001b[0m\u001b[0;34m)\u001b[0m\u001b[0;34m\u001b[0m\u001b[0;34m\u001b[0m\u001b[0m\n\u001b[0m\u001b[1;32m   2171\u001b[0m \u001b[0;34m\u001b[0m\u001b[0m\n\u001b[1;32m   2172\u001b[0m     \u001b[0;32mdef\u001b[0m \u001b[0m__getattr__\u001b[0m\u001b[0;34m(\u001b[0m\u001b[0mself\u001b[0m\u001b[0;34m,\u001b[0m \u001b[0mitem\u001b[0m\u001b[0;34m:\u001b[0m \u001b[0mstr\u001b[0m\u001b[0;34m)\u001b[0m \u001b[0;34m->\u001b[0m \u001b[0mAny\u001b[0m\u001b[0;34m:\u001b[0m\u001b[0;34m\u001b[0m\u001b[0;34m\u001b[0m\u001b[0m\n",
            "\u001b[0;31mValueError\u001b[0m: a_m"
          ]
        }
      ]
    },
    {
      "cell_type": "code",
      "source": [],
      "metadata": {
        "id": "jMJwoTrnNfcV"
      },
      "execution_count": null,
      "outputs": []
    }
  ]
}